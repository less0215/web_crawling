{
 "cells": [
  {
   "cell_type": "code",
   "execution_count": 1,
   "metadata": {},
   "outputs": [],
   "source": [
    "from selenium import webdriver\n",
    "\n",
    "driver = webdriver.Chrome()\n",
    "\n",
    "driver.get('https://startcoding.pythonanywhere.com/dynamic')"
   ]
  },
  {
   "cell_type": "code",
   "execution_count": 2,
   "metadata": {},
   "outputs": [],
   "source": [
    "# 절대 위치만큼 스크롤 이동\n",
    "# 매서드 안에서 값 입력할 때 따옴표 \"\" 쓰는 거 잊지 말기\n",
    "# execute_script()는 자바스크립트를 제어하는 메서드\n",
    "\n",
    "driver.execute_script(\"window.scrollTo(0, 1000)\")"
   ]
  },
  {
   "cell_type": "code",
   "execution_count": 4,
   "metadata": {},
   "outputs": [],
   "source": [
    "# 상대 위치만큼 스크롤 이동\n",
    "\n",
    "driver.execute_script(\"window.scrollBy(0, 1000)\")"
   ]
  },
  {
   "cell_type": "code",
   "execution_count": 10,
   "metadata": {},
   "outputs": [
    {
     "data": {
      "text/plain": [
       "7091"
      ]
     },
     "execution_count": 10,
     "metadata": {},
     "output_type": "execute_result"
    }
   ],
   "source": [
    "# 현재 윈도우 창 높이를 반환 하는 명령어\n",
    "\n",
    "driver.execute_script(\"return document.body.scrollHeight\")"
   ]
  },
  {
   "cell_type": "code",
   "execution_count": 9,
   "metadata": {},
   "outputs": [],
   "source": [
    "# 현재 페이지 높이만큼 스크롤 이동\n",
    "\n",
    "driver.execute_script(\"window.scrollTo(0, document.body.scrollHeight)\")"
   ]
  },
  {
   "cell_type": "markdown",
   "metadata": {},
   "source": [
    "특정 요소로 이동하기"
   ]
  },
  {
   "cell_type": "code",
   "execution_count": 13,
   "metadata": {},
   "outputs": [],
   "source": [
    "# arguments[0]에서 인덱스는 두 번째, 세번째 인자를 가리키는 것\n",
    "# scrollIntoView(true)에서 (true)를 꼭 써줄것\n",
    "\n",
    "from selenium.webdriver.common.by import By\n",
    "\n",
    "tag = driver.find_element(By.CSS_SELECTOR, '#aside > div:nth-child(3) > div > div:nth-child(6) > label')\n",
    "\n",
    "driver.execute_script(\"arguments[0].scrollIntoView(true)\", tag)\n"
   ]
  },
  {
   "cell_type": "markdown",
   "metadata": {},
   "source": [
    "특정 요소를 찾을 때까지 스크롤하기"
   ]
  },
  {
   "cell_type": "code",
   "execution_count": 16,
   "metadata": {},
   "outputs": [],
   "source": [
    "# 1. 찾을 요소를 정한다.\n",
    "# 2. 현재 윈도우 창 높이 만큼 스크롤 하는 코드를 작성한다.\n",
    "# 3. try에 1번과 break를 작성한다.\n",
    "# 4. except에 2번과 적절한 time.sleep()을 작성한다.\n",
    "# 5. 요소를 찾을 때까지이니깐 while로 감싸준다.\n",
    "\n",
    "\n",
    "import time\n",
    "import random\n",
    "\n",
    "random_time = random.uniform(1,3)\n",
    "\n",
    "\n",
    "while True:\n",
    "    try:\n",
    "        tag1 = driver.find_element(By.CSS_SELECTOR, '#product-container > div:nth-child(21)')\n",
    "        break\n",
    "\n",
    "    except:\n",
    "        driver.execute_script(\"window.scrollTo(0, document.body.scrollHeight)\")\n",
    "        time.sleep(random_time)"
   ]
  },
  {
   "cell_type": "code",
   "execution_count": 23,
   "metadata": {},
   "outputs": [],
   "source": [
    "# 무한스크롤 알고리즘\n",
    "    # 스크롤 전 높이 확인 후 저장\n",
    "    # 스크롤을 현재 윈도우 창 높이 만큼 내리기\n",
    "    # 스크롤 후 높이 확인\n",
    "    # 만약 스크롤 전과 후가 높이가 같다면, 중지.\n",
    "    # 같지 않다면, 스크롤 후 높이를 스크롤 전 높이에 대입\n",
    "# 위 과정을 무한 반복\n",
    "# 조건문에서는 else나 elif가 없어도 된다.\n",
    "\n",
    "before_height = driver.execute_script(\"return document.body.scrollHeight\")\n",
    "\n",
    "while True :\n",
    "    # 스크롤 끝까지 내리기\n",
    "    driver.execute_script(\"window.scrollTo(0, document.body.scrollHeight)\")\n",
    "    time.sleep(random_time)\n",
    "    \n",
    "    # 스크롤 후 높이 확인\n",
    "    after_height = driver.execute_script(\"return document.body.scrollHeight\")\n",
    "\n",
    "    if before_height == after_height:\n",
    "        break\n",
    "    \n",
    "    before_height = after_height"
   ]
  }
 ],
 "metadata": {
  "kernelspec": {
   "display_name": "Python 3",
   "language": "python",
   "name": "python3"
  },
  "language_info": {
   "codemirror_mode": {
    "name": "ipython",
    "version": 3
   },
   "file_extension": ".py",
   "mimetype": "text/x-python",
   "name": "python",
   "nbconvert_exporter": "python",
   "pygments_lexer": "ipython3",
   "version": "3.12.5"
  }
 },
 "nbformat": 4,
 "nbformat_minor": 2
}
