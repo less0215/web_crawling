{
 "cells": [
  {
   "cell_type": "code",
   "execution_count": 1,
   "metadata": {},
   "outputs": [],
   "source": [
    "from selenium import webdriver\n",
    "\n",
    "driver = webdriver.Chrome()\n",
    "\n",
    "driver.get('https://www.naver.com/')"
   ]
  },
  {
   "cell_type": "code",
   "execution_count": 4,
   "metadata": {},
   "outputs": [
    {
     "data": {
      "text/plain": [
       "<selenium.webdriver.remote.webelement.WebElement (session=\"b28100589589b272c8de40547a2dad8c\", element=\"f.24E0EF526F123AB9BA6C8F009B9D5E2F.d.06A0919C79597111404D384EBF3BE3D9.e.4\")>"
      ]
     },
     "execution_count": 4,
     "metadata": {},
     "output_type": "execute_result"
    }
   ],
   "source": [
    "from selenium.webdriver.common.by import By\n",
    "from selenium.webdriver.common.keys import Keys\n",
    "\n",
    "label = driver.find_element(By.CSS_SELECTOR, '#query')"
   ]
  },
  {
   "cell_type": "code",
   "execution_count": 7,
   "metadata": {},
   "outputs": [
    {
     "data": {
      "text/plain": [
       "<selenium.webdriver.remote.webelement.WebElement (session=\"b29f39af58087d908bcd87452ec9e0f3\", element=\"f.EE88516E9A09A2A74BF102868E56014C.d.BAFCAF30B7FFD3F1FA997EE35230C929.e.4\")>"
      ]
     },
     "execution_count": 7,
     "metadata": {},
     "output_type": "execute_result"
    }
   ],
   "source": [
    "# 암시적 대기\n",
    "# implicityly_wait() 위치는 get() 전에 작성\n",
    "## 웹페이지에 들어 가기 전에 기다릴 시간을 미리 정한다고 생각.\n",
    "# 10초 동안 태그를 찾지 못하면 NoSuchElementException 오류 발생\n",
    "\n",
    "from selenium import webdriver\n",
    "\n",
    "driver = webdriver.Chrome()\n",
    "driver.implicitly_wait(10)\n",
    "driver.get('https://www.naver.com/')\n",
    "driver.find_element(By.CSS_SELECTOR, '#query')"
   ]
  },
  {
   "cell_type": "code",
   "execution_count": 6,
   "metadata": {},
   "outputs": [
    {
     "data": {
      "text/plain": [
       "<selenium.webdriver.remote.webelement.WebElement (session=\"b28100589589b272c8de40547a2dad8c\", element=\"f.24E0EF526F123AB9BA6C8F009B9D5E2F.d.06A0919C79597111404D384EBF3BE3D9.e.4\")>"
      ]
     },
     "execution_count": 6,
     "metadata": {},
     "output_type": "execute_result"
    }
   ],
   "source": [
    "# 명시적 대기\n",
    "# WebDriverWait()는 get() 이후에 작성\n",
    "## 특정 요소를 찾는 것이기 때문에, 웹페이지에 진입한 이후에 작성해야 한다.\n",
    "\n",
    "\n",
    "from selenium import webdriver\n",
    "from selenium.webdriver.support.ui import WebDriverWait\n",
    "from selenium.webdriver.support import expected_conditions as EC\n",
    "\n",
    "driver = webdriver.Chrome()\n",
    "driver.get('https://www.naver.com/')\n",
    "\n",
    "element = WebDriverWait(driver, 5).until(\n",
    "    # (By.ID, 'query') 사용시에는 # 제거\n",
    "    # CSS_SELECTOR는 더 범용적\n",
    "    EC.presence_of_element_located((By.CSS_SELECTOR, '#query'))\n",
    ")"
   ]
  }
 ],
 "metadata": {
  "kernelspec": {
   "display_name": "Python 3",
   "language": "python",
   "name": "python3"
  },
  "language_info": {
   "codemirror_mode": {
    "name": "ipython",
    "version": 3
   },
   "file_extension": ".py",
   "mimetype": "text/x-python",
   "name": "python",
   "nbconvert_exporter": "python",
   "pygments_lexer": "ipython3",
   "version": "3.12.5"
  }
 },
 "nbformat": 4,
 "nbformat_minor": 2
}
