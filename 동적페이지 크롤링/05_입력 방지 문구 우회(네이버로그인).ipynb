{
 "cells": [
  {
   "cell_type": "code",
   "execution_count": 4,
   "metadata": {},
   "outputs": [],
   "source": [
    "user_id = 'id'\n",
    "user_pw = 'pw'"
   ]
  },
  {
   "cell_type": "code",
   "execution_count": 1,
   "metadata": {},
   "outputs": [],
   "source": [
    "from selenium import webdriver\n",
    "\n",
    "driver = webdriver.Chrome()\n",
    "\n",
    "driver.get('https://nid.naver.com/nidlogin.login')"
   ]
  },
  {
   "cell_type": "code",
   "execution_count": 5,
   "metadata": {},
   "outputs": [
    {
     "name": "stdout",
     "output_type": "stream",
     "text": [
      "Defaulting to user installation because normal site-packages is not writeable\n",
      "Collecting pyperclip\n",
      "  Downloading pyperclip-1.9.0.tar.gz (20 kB)\n",
      "  Installing build dependencies: started\n",
      "  Installing build dependencies: finished with status 'done'\n",
      "  Getting requirements to build wheel: started\n",
      "  Getting requirements to build wheel: finished with status 'done'\n",
      "  Preparing metadata (pyproject.toml): started\n",
      "  Preparing metadata (pyproject.toml): finished with status 'done'\n",
      "Building wheels for collected packages: pyperclip\n",
      "  Building wheel for pyperclip (pyproject.toml): started\n",
      "  Building wheel for pyperclip (pyproject.toml): finished with status 'done'\n",
      "  Created wheel for pyperclip: filename=pyperclip-1.9.0-py3-none-any.whl size=11020 sha256=4fa9a81032586a21328dab80df3b936f02c4467ed70ba365bfb8f6f44c8a6270\n",
      "  Stored in directory: c:\\users\\lofib\\appdata\\local\\pip\\cache\\wheels\\e0\\e8\\fc\\8ab8aa326e33bc066ccd5f3ca9646eab4299881af933f94f09\n",
      "Successfully built pyperclip\n",
      "Installing collected packages: pyperclip\n",
      "Successfully installed pyperclip-1.9.0\n",
      "Note: you may need to restart the kernel to use updated packages.\n"
     ]
    }
   ],
   "source": [
    "pip install pyperclip"
   ]
  },
  {
   "cell_type": "code",
   "execution_count": 13,
   "metadata": {},
   "outputs": [],
   "source": [
    "from selenium import webdriver\n",
    "from selenium.webdriver.common.by import By\n",
    "from selenium.webdriver.common.keys import Keys\n",
    "from selenium.webdriver.support.ui import WebDriverWait\n",
    "from selenium.webdriver.support import expected_conditions as EC\n",
    "import pyperclip\n",
    "import time\n",
    "import random\n",
    "\n",
    "random_time = random.uniform(1,3)\n",
    "\n",
    "driver = webdriver.Chrome()\n",
    "\n",
    "driver.get('https://nid.naver.com/nidlogin.login')\n",
    "time.sleep(random_time)\n",
    "\n",
    "# 아이디 입력\n",
    "wait = WebDriverWait(driver, 5)\n",
    "id_input = wait.until(\n",
    "    EC.element_to_be_clickable((By.CSS_SELECTOR, '#id'))\n",
    ")\n",
    "pyperclip.copy(user_id)\n",
    "id_input.send_keys(Keys.CONTROL, 'v')\n",
    "time.sleep(random_time)\n",
    "\n",
    "# 비밀번호 입력\n",
    "pw_input = wait.until(\n",
    "    EC.element_to_be_clickable((By.CSS_SELECTOR, '#pw'))\n",
    ")\n",
    "pyperclip.copy(user_pw)\n",
    "pw_input.send_keys(Keys.CONTROL, 'v')\n",
    "time.sleep(random_time)\n",
    "\n",
    "# send_keys(Keys.ENTER)를 이용하면, 자동입력방지 문구가 뜬다.\n",
    "# 선택한 다음에 바로 .click()을 적용해 준다.\n",
    "driver.find_element(By.CSS_SELECTOR, '#log\\\\.login').click()"
   ]
  }
 ],
 "metadata": {
  "kernelspec": {
   "display_name": "Python 3",
   "language": "python",
   "name": "python3"
  },
  "language_info": {
   "codemirror_mode": {
    "name": "ipython",
    "version": 3
   },
   "file_extension": ".py",
   "mimetype": "text/x-python",
   "name": "python",
   "nbconvert_exporter": "python",
   "pygments_lexer": "ipython3",
   "version": "3.12.5"
  }
 },
 "nbformat": 4,
 "nbformat_minor": 2
}
