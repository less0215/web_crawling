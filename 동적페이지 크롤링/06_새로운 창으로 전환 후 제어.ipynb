{
 "cells": [
  {
   "cell_type": "code",
   "execution_count": 4,
   "metadata": {},
   "outputs": [],
   "source": [
    "user_id = 'id'\n",
    "user_pw = 'pw'"
   ]
  },
  {
   "cell_type": "code",
   "execution_count": 1,
   "metadata": {},
   "outputs": [],
   "source": [
    "from selenium import webdriver\n",
    "\n",
    "driver = webdriver.Chrome()\n",
    "\n",
    "driver.get('https://nid.naver.com/nidlogin.login')"
   ]
  },
  {
   "cell_type": "code",
   "execution_count": 13,
   "metadata": {},
   "outputs": [],
   "source": [
    "from selenium.webdriver.common.by import By\n",
    "import pyperclip\n",
    "from selenium.webdriver.common.keys import Keys\n",
    "import time\n",
    "import random\n",
    "\n",
    "random_time = random.uniform(1,3)\n",
    "\n",
    "# 아이디 입력 칸 선택\n",
    "id_input = driver.find_element(By.CSS_SELECTOR, '#id')\n",
    "\n",
    "# 아이디 입력\n",
    "pyperclip.copy(user_id)\n",
    "id_input.send_keys(Keys.CONTROL, 'v')\n",
    "time.sleep(random_time)\n",
    "\n",
    "\n",
    "# 비밀번호 입력 칸 선택\n",
    "pw_input = driver.find_element(By.CSS_SELECTOR, '#pw')\n",
    "\n",
    "# 비밀번호 입력\n",
    "pyperclip.copy(user_pw)\n",
    "pw_input.send_keys(Keys.CONTROL, 'v')\n",
    "time.sleep(random_time)\n",
    "\n",
    "# 로그인 버튼 클릭\n",
    "driver.find_element(By.CSS_SELECTOR, '#log\\\\.login').click()\n"
   ]
  },
  {
   "cell_type": "code",
   "execution_count": 20,
   "metadata": {},
   "outputs": [],
   "source": [
    "driver.refresh()"
   ]
  },
  {
   "cell_type": "code",
   "execution_count": 21,
   "metadata": {},
   "outputs": [],
   "source": [
    "# 메일 드랍 다운 메뉴 클릭\n",
    "# CSS_SELECTOR 선택 시 제대로 선택하기.\n",
    "    # 제대로 선택하는 방법은 개발자도구 켜놓은 상태에서 클릭 등 행동해보기\n",
    "driver.find_element(By.CSS_SELECTOR, '#account > div.MyView-module__my_menu___eF24q > div > div > ul > li:nth-child(1) > a').click()\n",
    "time.sleep(random_time)\n",
    "\n",
    "# 메일함 클릭\n",
    "driver.find_element(By.CSS_SELECTOR, '#account > div.MyView-module__layer_menu_service___NqMyX > div.MyView-module__service_sub___wix9p > div.MyView-module__sub_left___AIWHR > a').click()\n",
    "time.sleep(random_time)"
   ]
  },
  {
   "cell_type": "code",
   "execution_count": 23,
   "metadata": {},
   "outputs": [
    {
     "data": {
      "text/plain": [
       "['A12ED55C608AEC4E48C072A78C3200E7',\n",
       " 'A93862F7F684A0E371E5AFCA422E4498',\n",
       " '0EB54851E7602559A913C8C918A38C6B']"
      ]
     },
     "execution_count": 23,
     "metadata": {},
     "output_type": "execute_result"
    }
   ],
   "source": [
    "# 현재 제어 중인 창 표시\n",
    "driver.window_handles"
   ]
  },
  {
   "cell_type": "code",
   "execution_count": 27,
   "metadata": {},
   "outputs": [],
   "source": [
    "# 창 선택하기\n",
    "driver.switch_to.window(driver.window_handles[1])"
   ]
  },
  {
   "cell_type": "code",
   "execution_count": 28,
   "metadata": {},
   "outputs": [],
   "source": [
    "# 메일쓰기 버튼 클릭\n",
    "driver.find_element(By.CSS_SELECTOR, '#root > div > nav > div > div.lnb_header > div.lnb_task > a.item.button_write').click()"
   ]
  },
  {
   "cell_type": "code",
   "execution_count": 37,
   "metadata": {},
   "outputs": [],
   "source": [
    "# 받는 사람에 내용 작성\n",
    "receive_people = driver.find_element(By.CSS_SELECTOR, '#recipient_input_element')\n",
    "pyperclip.copy('lofibong@naver.com')\n",
    "receive_people.send_keys(Keys.CONTROL, 'v')\n",
    "time.sleep(random_time)\n",
    "\n",
    "# 제목 입력\n",
    "title_input = driver.find_element(By.CSS_SELECTOR, '#subject_title')\n",
    "pyperclip.copy('메일 자동화 테스트')\n",
    "title_input.send_keys(Keys.CONTROL, 'v')\n",
    "time.sleep(random_time)\n",
    "\n",
    "# iframe 전환\n",
    "    # 1. IFRAME 변수에 내용 넣기\n",
    "    # 2. .frame(iframe)\n",
    "iframe = driver.find_element(By.CSS_SELECTOR, '#content > div.contents_area > div > div.editor_area > div > div.editor_body > iframe')\n",
    "driver.switch_to.frame(iframe)\n",
    "\n",
    "# 내용 작성\n",
    "discription_input = driver.find_element(By.CSS_SELECTOR, 'body > div > div.workseditor-content')\n",
    "pyperclip.copy('테스트 성공')\n",
    "discription_input.send_keys(Keys.CONTROL, 'v')\n",
    "time.sleep(random_time)\n",
    "\n",
    "# 다시 밖으로 창 전환\n",
    "    # .default_content()로 다시 원래 있던 창으로 복귀\n",
    "driver.switch_to.default_content()\n",
    "\n",
    "# 보내기 버튼 클릭\n",
    "driver.find_element(By.CSS_SELECTOR, '#content > div.mail_toolbar.type_write > div:nth-child(1) > div > button.button_write_task').click()\n"
   ]
  }
 ],
 "metadata": {
  "kernelspec": {
   "display_name": "Python 3",
   "language": "python",
   "name": "python3"
  },
  "language_info": {
   "codemirror_mode": {
    "name": "ipython",
    "version": 3
   },
   "file_extension": ".py",
   "mimetype": "text/x-python",
   "name": "python",
   "nbconvert_exporter": "python",
   "pygments_lexer": "ipython3",
   "version": "3.12.5"
  }
 },
 "nbformat": 4,
 "nbformat_minor": 2
}
