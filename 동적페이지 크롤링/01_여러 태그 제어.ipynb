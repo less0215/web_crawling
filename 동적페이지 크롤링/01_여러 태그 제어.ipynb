{
 "cells": [
  {
   "cell_type": "code",
   "execution_count": null,
   "metadata": {},
   "outputs": [],
   "source": [
    "pip install selenium==4.17.2"
   ]
  },
  {
   "cell_type": "code",
   "execution_count": null,
   "metadata": {},
   "outputs": [],
   "source": [
    "pip install webdriver-manager"
   ]
  },
  {
   "cell_type": "code",
   "execution_count": 10,
   "metadata": {},
   "outputs": [],
   "source": [
    "from selenium import webdriver\n",
    "\n",
    "driver = webdriver.Chrome()"
   ]
  },
  {
   "cell_type": "code",
   "execution_count": 11,
   "metadata": {},
   "outputs": [],
   "source": [
    "driver.get('https://startcoding.pythonanywhere.com/basic')"
   ]
  },
  {
   "cell_type": "code",
   "execution_count": null,
   "metadata": {},
   "outputs": [],
   "source": [
    "from selenium.webdriver.common.by import By\n",
    "from selenium.webdriver.common.keys import Keys\n",
    "\n",
    "labels = driver.find_elements(By.CSS_SELECTOR, 'label[for]')\n",
    "labels"
   ]
  },
  {
   "cell_type": "code",
   "execution_count": 16,
   "metadata": {},
   "outputs": [],
   "source": [
    "# 반복문 사용해서 여러 태그 순서대로 클릭\n",
    "\n",
    "for label in labels:\n",
    "    label.click()"
   ]
  },
  {
   "cell_type": "code",
   "execution_count": 17,
   "metadata": {},
   "outputs": [],
   "source": [
    "# 클릭할 때 부정 이용 방지를 위해 time으로 제어\n",
    "\n",
    "import time\n",
    "\n",
    "for label in labels:\n",
    "    label.click()\n",
    "    time.sleep(1)"
   ]
  },
  {
   "cell_type": "code",
   "execution_count": 21,
   "metadata": {},
   "outputs": [],
   "source": [
    "# random 라이브러리를 이용해서 불규칙 하게 클릭 가능\n",
    "\n",
    "import time\n",
    "import random\n",
    "\n",
    "random_time = random.uniform(1,3)\n",
    "\n",
    "for label in labels:\n",
    "    label.click()\n",
    "    time.sleep(random_time)"
   ]
  },
  {
   "cell_type": "code",
   "execution_count": 19,
   "metadata": {},
   "outputs": [
    {
     "name": "stdout",
     "output_type": "stream",
     "text": [
      "노트북 (10)\n",
      "데스크탑 (10)\n",
      "휴대폰 (10)\n",
      "모니터 (5)\n",
      "카메라 (128)\n",
      "악세사리 (740)\n",
      "SAMSUNG (578)\n",
      "LG (125)\n",
      "HP (755)\n",
      "DELL (578)\n",
      "ASUS (125)\n",
      "SONY (755)\n"
     ]
    }
   ],
   "source": [
    "# 속성에 해당하는 텍스트 추출\n",
    "\n",
    "for label in labels:\n",
    "    print(label.text)"
   ]
  },
  {
   "cell_type": "code",
   "execution_count": 20,
   "metadata": {},
   "outputs": [
    {
     "name": "stdout",
     "output_type": "stream",
     "text": [
      "category-1\n",
      "category-2\n",
      "category-3\n",
      "category-4\n",
      "category-5\n",
      "category-6\n",
      "brand-1\n",
      "brand-2\n",
      "brand-3\n",
      "brand-4\n",
      "brand-5\n",
      "brand-6\n"
     ]
    }
   ],
   "source": [
    "# 속성 값 추출\n",
    "\n",
    "for label in labels:\n",
    "    print(label.get_attribute('for'))"
   ]
  }
 ],
 "metadata": {
  "kernelspec": {
   "display_name": "Python 3",
   "language": "python",
   "name": "python3"
  },
  "language_info": {
   "codemirror_mode": {
    "name": "ipython",
    "version": 3
   },
   "file_extension": ".py",
   "mimetype": "text/x-python",
   "name": "python",
   "nbconvert_exporter": "python",
   "pygments_lexer": "ipython3",
   "version": "3.12.5"
  }
 },
 "nbformat": 4,
 "nbformat_minor": 2
}
