{
 "cells": [
  {
   "cell_type": "code",
   "execution_count": 1,
   "metadata": {},
   "outputs": [],
   "source": [
    "from selenium import webdriver\n",
    "\n",
    "driver = webdriver.Chrome()\n",
    "\n",
    "driver.get('https://cafe.naver.com/startcodingofficial')"
   ]
  },
  {
   "cell_type": "code",
   "execution_count": 2,
   "metadata": {},
   "outputs": [],
   "source": [
    "#menuLink15\n",
    "\n",
    "from selenium.webdriver.common.by import By\n",
    "from selenium.webdriver.common.keys import Keys\n",
    "\n",
    "driver.find_element(By.CSS_SELECTOR, '#menuLink15').click()"
   ]
  },
  {
   "cell_type": "code",
   "execution_count": 16,
   "metadata": {},
   "outputs": [],
   "source": [
    "import time\n",
    "import random\n",
    "\n",
    "random_time = random.uniform(1, 1.3)\n",
    "\n",
    "### iframe 전환\n",
    "# iframe = driver.find_element(By.CSS_SELECTOR, '#cafe_main')\n",
    "# driver.switch_to.frame(iframe)\n",
    "\n",
    "### 15개씩 클릭\n",
    "# driver.find_element(By.CSS_SELECTOR, '#listSizeSelectDiv > a').click()\n",
    "# time.sleep(random_time)\n",
    "\n",
    "### 50개씩 클릭\n",
    "driver.find_element(By.CSS_SELECTOR, '#listSizeSelectDiv > ul > li:nth-child(7) > a').click()\n",
    "time.sleep(random_time)"
   ]
  },
  {
   "cell_type": "markdown",
   "metadata": {},
   "source": [
    "find_elements 이용해서 요소 추출"
   ]
  },
  {
   "cell_type": "code",
   "execution_count": null,
   "metadata": {},
   "outputs": [],
   "source": [
    "# from bs4 import BeautifulSoup\n",
    "\n",
    "# html = driver.page_source\n",
    "# soup = BeautifulSoup(html, 'html.parser')\n",
    "\n",
    "# articles = soup.select('[onclick*=title]')\n",
    "\n",
    "\n",
    "articles = driver.find_elements(By.CSS_SELECTOR, '[onclick*=title]')\n",
    "\n",
    "for article in articles:\n",
    "    title = article.text\n",
    "    link = article.get_attribute('href')\n",
    "    print(title, link)"
   ]
  },
  {
   "cell_type": "markdown",
   "metadata": {},
   "source": [
    "태그가 안 보이는 상황에서 클릭한 경우\n",
    "- ElementNotInteractableException"
   ]
  },
  {
   "cell_type": "code",
   "execution_count": null,
   "metadata": {},
   "outputs": [],
   "source": [
    "driver.find_element(By.CSS_SELECTOR, '#listSizeSelectDiv > ul > li:nth-child(5) > a').click()"
   ]
  },
  {
   "cell_type": "markdown",
   "metadata": {},
   "source": [
    "해결방법 1 : 순서대로 요소를 클릭한다"
   ]
  },
  {
   "cell_type": "code",
   "execution_count": 32,
   "metadata": {},
   "outputs": [],
   "source": [
    "driver.find_element(By.CSS_SELECTOR, '#listSizeSelectDiv > a').click()\n",
    "time.sleep(random_time)\n",
    "\n",
    "element = driver.find_element(By.CSS_SELECTOR, '#listSizeSelectDiv > ul > li:nth-child(5) > a').click()"
   ]
  },
  {
   "cell_type": "markdown",
   "metadata": {},
   "source": [
    "해결방법 2 : 강제로 클릭하기"
   ]
  },
  {
   "cell_type": "code",
   "execution_count": 33,
   "metadata": {},
   "outputs": [],
   "source": [
    "element = driver.find_element(By.CSS_SELECTOR, '#listSizeSelectDiv > ul > li:nth-child(5) > a')\n",
    "\n",
    "driver.execute_script('arguments[0].click()', element)"
   ]
  }
 ],
 "metadata": {
  "kernelspec": {
   "display_name": "Python 3",
   "language": "python",
   "name": "python3"
  },
  "language_info": {
   "codemirror_mode": {
    "name": "ipython",
    "version": 3
   },
   "file_extension": ".py",
   "mimetype": "text/x-python",
   "name": "python",
   "nbconvert_exporter": "python",
   "pygments_lexer": "ipython3",
   "version": "3.12.5"
  }
 },
 "nbformat": 4,
 "nbformat_minor": 2
}
