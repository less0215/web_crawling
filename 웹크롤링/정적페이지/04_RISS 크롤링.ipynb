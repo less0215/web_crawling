{
 "cells": [
  {
   "cell_type": "code",
   "execution_count": null,
   "metadata": {},
   "outputs": [],
   "source": [
    "# 제목, 링크\n",
    "# 발행기관, 발행연도, 주제어"
   ]
  },
  {
   "cell_type": "markdown",
   "metadata": {},
   "source": [
    "파라미터 종류가 많은 경우"
   ]
  },
  {
   "cell_type": "code",
   "execution_count": null,
   "metadata": {},
   "outputs": [],
   "source": [
    "# 파라미터 딕셔너리 만들기\n",
    "# 파라미터가 있는 곳은? 'netword - payload'\n",
    "# 비어있는 파라미터 제거, 의미 없는 파라미터 제거 \n",
    "# 만든 파라미터 get() 인자에 params로 추가\n",
    "\n",
    "# 파라미터 정돈 프롬프트\n",
    "'''\n",
    "\"다음 파라미터 목록을 정리해서 파이썬 딕셔너리로 만들어주세요:\n",
    "\n",
    "1. 빈 값이나 의미 없는 값을 가진 항목은 제거해주세요.\n",
    "3. 각 항목을 'key': 'value' 형식으로 정리해주세요.\n",
    "\n",
    "완성된 딕셔너리를 Python 코드 블록 안에 작성해주세요.\"\n",
    "'''\n",
    "\n",
    "import requests\n",
    "from bs4 import BeautifulSoup\n",
    "\n",
    "param = {\n",
    "    'isDetailSearch': 'N',\n",
    "    'searchGubun': 'true',\n",
    "    'viewYn': 'OP',\n",
    "    'strQuery': '패션 인공지능',\n",
    "    'order': '/DESC',\n",
    "    'onHanja': 'false',\n",
    "    'strSort': 'RANK',\n",
    "    'iStartCount': '0',\n",
    "    'sflag': '1',\n",
    "    'isFDetailSearch': 'N',\n",
    "    'pageNumber': '1',\n",
    "    'resultKeyword': '패션 인공지능',\n",
    "    'icate': 're_a_kor',\n",
    "    'colName': 're_a_kor',\n",
    "    'pageScale': '100',\n",
    "    'isTab': 'Y',\n",
    "    'query': '패션 인공지능'\n",
    "}\n",
    "\n",
    "respone= requests.get(\"https://www.riss.kr/search/Search.do\", params=param)\n",
    "html = respone.text\n",
    "soup = BeautifulSoup(html, 'html.parser')"
   ]
  },
  {
   "cell_type": "markdown",
   "metadata": {},
   "source": [
    "서버 요청 거절된 경우"
   ]
  },
  {
   "cell_type": "code",
   "execution_count": 104,
   "metadata": {},
   "outputs": [
    {
     "name": "stdout",
     "output_type": "stream",
     "text": [
      "<html>\n",
      "<body>\n",
      "<form action=\"http://sso.riss.kr:11301/cdc_read_relay.jsp\" method=\"POST\" name=\"f\">\n",
      "<input name=\"SAMLRequest\" type=\"hidden\" value=\"nVXbUtswEH3PV3jEY8e2bBIgnjgdGkqbKbc6oRdeOqq0SdQ6ktHKCfD1lZ0EHAodimfsyax2z9nLWaX39maeewswKLVKSRRQ4oHiWkg1Tcnl+Ng/IG/7rVYP2TwvksPSzlQG1yWg9VykwqQ+SElpVKIZSkwUmwMmliejw9OTJA5oUhhtNdc5WYX825khgrEuG+Idbn4OtMJyDmYEZiE5XGYnKZlZW2AShsvlMjASMfhtQiyCCue9EoWWyhLvyOUpFbN1cVWEC0DUm4AkinZpFHLBfxhgwn1ydhv8woJ4w6OUUNoG9+z7bG9Cfd7lHX+/02n7fNLdjUSbU/Zz33kiljBUaJmyKYlp3PbpgR93xvQgiTsJ7V4R72LdgXdSrTr7qANBswM/V06YfByPL/wMhDTAbQ2ykALMmYtwyUVBNhyNYhrQiHhfNhN0AKTf8rxenZbpN9164dpYnVcoQ3Ghc8lvvcM818uB64F1yNaUQLxjbebMPj+rKIhqixT+pHZNSoUFcDmRIEi/FzYJakaByUhO3TRKA2vxCLwfSzXH5W6gzTSMKaUh7YbOR6Cc7tQFPQCAGKqJXtlW1gFTWknOcnlXz/oU7EwLV9VUG2ln82dIojCiFYkPN9znUVvtVHk/i9dkvC/khVRb9czmjPs4Y9Ga7hFYkyeDCRi3kOBdZsOU7LxIkhuAFcTYMIXViPDB/ujk/9IHtYBcFyB83CS+LuQe8PVMT82kAVYJW/G8RLmASmBYMA64uVdeiuhWCSby5kSiE/iOgAkrc+tVN1n9KTzhIFG4V1aVPcG4VeAzpW/bcXsqR3Lq7qbXqKchnCbIU/BfWF5C/8zcjMJBNx+U375+5fIqprvZ3XkUZ5ynDZiV80Z7YVN86/3baLW5gFvLsIL43M6uF3u5EVf2zd65np19vPsQHnyy3ex7uq33e8ptc7/VC//+v+m3/gA=\"/>\n",
      "<input name=\"RelayState\" type=\"hidden\" value=\"https://www.riss.kr/search/Search.do/search/detail/DetailView.do?p_mat_type=1a0202e37d52c72d&amp;control_no=dcd1a8e873c0ca787ecd42904f0c5d65&amp;keyword=%ED%8C%A8%EC%85%98%20%EC%9D%B8%EA%B3%B5%EC%A7%80%EB%8A%A5\"/>\n",
      "</form>\n",
      "<script language=\"javascript\">\n",
      "var relay_flag = true;\n",
      "function goPost() { relay_flag = false; document.f.submit(); }\n",
      "function goRelay() { if(relay_flag) document.location.href = \"https://www.riss.kr/search/Search.do/search/detail/DetailView.do?p_mat_type=1a0202e37d52c72d&control_no=dcd1a8e873c0ca787ecd42904f0c5d65&keyword=%ED%8C%A8%EC%85%98%20%EC%9D%B8%EA%B3%B5%EC%A7%80%EB%8A%A5\"; } \n",
      "setTimeout(\"goRelay()\", 500);\n",
      "</script>\n",
      "<script language=\"javascript\" src=\"http://sso.riss.kr:11301/cdc_read_check.jsp\"></script>\n",
      "</body>\n",
      "</html>\n",
      "\n"
     ]
    }
   ],
   "source": [
    "# 서버 요청이 거절된 경우, html이 100% 출력 되지 않는다.\n",
    "\n",
    "articles = soup.select(\".srchResultListW > ul > li\")\n",
    "\n",
    "for article in articles[:1]:\n",
    "    title = article.select_one(\".cont.ml60 .title a\").text\n",
    "    link = 'https://www.riss.kr/search/Search.do' + article.select_one(\".cont.ml60 .title a\").attrs[\"href\"]\n",
    "\n",
    "    # 상세페이지 요청\n",
    "    respone2 = requests.get(link)\n",
    "    html2 = respone2.text\n",
    "    soup2 = BeautifulSoup(html2, 'html.parser')\n",
    "    print(soup2)\n",
    "    # 발행기관\n",
    "    # print(article.select_one(\".infoDetailL > ul > li:nth-of-type(2) > div > p > a\").text)"
   ]
  },
  {
   "cell_type": "markdown",
   "metadata": {},
   "source": [
    "서버 요청 거절 해결방법 // 첫 페이지 크롤링(키워드만 추출)"
   ]
  },
  {
   "cell_type": "code",
   "execution_count": 106,
   "metadata": {},
   "outputs": [
    {
     "name": "stdout",
     "output_type": "stream",
     "text": [
      "['디지털 트랜스포메이션', '패션산업', '인공지능', 'AI 진화 단계', 'digital transformation', 'fashion business', 'artificial intelligence', 'AI evolutionary stage']\n"
     ]
    }
   ],
   "source": [
    "# header 딕셔너리 만들기\n",
    "# header 내용이 담긴 위치는? 'Network - 맨 위 요소 - Headers'\n",
    "# header 딕셔너리에 필요한 요소 넣기\n",
    "    # 'User-Agent', 'Referer'는 필수\n",
    "    # 그외 다른 요소는 선택\n",
    "# header를 get() 인자에 headers=로 넣기\n",
    "# 잘 요청 되는지 확인하려면 새롭게 요청한 후 적용한 BeautifulSoup에 변수명 print로 입력\n",
    "    # 여기서는 pirnt(soup2)\n",
    "\n",
    "articles = soup.select(\".srchResultListW > ul > li\")\n",
    "\n",
    "header = {\n",
    "    'User-Agent' : 'Mozilla/5.0',\n",
    "    'Referer' : 'https://www.riss.kr/search/Search.do?isDetailSearch=N&searchGubun=true&viewYn=OP&queryText=&strQuery=%ED%8C%A8%EC%85%98+%EC%9D%B8%EA%B3%B5%EC%A7%80%EB%8A%A5&exQuery=&exQueryText=&order=%2FDESC&onHanja=false&strSort=RANK&p_year1=&p_year2=&iStartCount=0&orderBy=&mat_type=&mat_subtype=&fulltext_kind=&t_gubun=&learning_type=&ccl_code=&inside_outside=&fric_yn=&db_type=&image_yn=&gubun=&kdc=&ttsUseYn=&l_sub_code=&fsearchMethod=&sflag=1&isFDetailSearch=N&pageNumber=1&resultKeyword=%ED%8C%A8%EC%85%98+%EC%9D%B8%EA%B3%B5%EC%A7%80%EB%8A%A5&fsearchSort=&fsearchOrder=&limiterList=&limiterListText=&facetList=&facetListText=&fsearchDB=&icate=re_a_kor&colName=re_a_kor&pageScale=100&isTab=Y&regnm=&dorg_storage=&language=&language_code=&clickKeyword=&relationKeyword=&query=%ED%8C%A8%EC%85%98+%EC%9D%B8%EA%B3%B5%EC%A7%80%EB%8A%A5',\n",
    "    'Accept' : 'text/html,application/xhtml+xml,application/xml;q=0.9,image/avif,image/webp,image/apng,*/*;q=0.8,application/signed-exchange;v=b3;q=0.7',\n",
    "    'Accept-Encoding' : 'gzip, deflate, br, zstd',\n",
    "    'Accept-Language' : 'ko-KR,ko;q=0.9,en-US;q=0.8,en;q=0.7',\n",
    "    'Cookie' : 'WMONID=gHVjSDBg752; _ga=GA1.1.423248680.1724564870; JSESSIONID=gMpnLW9YShG4PskCrTZ0qAlk6a2kgNHRNxJiKCPaxSPF1Cb1znIdYA9Y3SlB4sA8.amV1c19kb21haW4vcmlzc3dhczJfY29udGFpbmVyMQ==; TodayView=1a0202e37d52c72d_dcd1a8e873c0ca787ecd42904f0c5d65_%ED%8C%A8%EC%85%98+%EC%A0%9C%EC%A1%B0+%EA%B8%B0%EC%97%85%EC%9D%98+%EB%94%94%EC%A7%80%ED%84%B8+%ED%8A%B8%EB%9E%9C%EC%8A%A4%ED%8F%AC%EB%A9%94%EC%9D%B4%EC%85%98%EC%9D%84+%EC%9C%84%ED%95%9C+%EC%9D%B8%EA%B3%B5%EC%A7%80%EB%8A%A5+%EC%86%94%EB%A3%A8%EC%85%98+%EA%B0%9C%EB%B0%9C+%EB%B0%8F+%ED%99%9C%EC%9A%A9+%ED%98%84%ED%99%A9_RISS; TodayKeyword=%ED%8C%A8%EC%85%98+%EC%9D%B8%EA%B3%B5%EC%A7%80%EB%8A%A5,78,re_a_kor:%ED%8C%A8%EC%85%98+%EC%9D%B8%EA%B3%B5%EC%A7%80%EB%8A%A5,78,re_a_kor:%ED%8C%A8%EC%85%98+%EC%9D%B8%EA%B3%B5%EC%A7%80%EB%8A%A5,78,re_a_kor:%ED%8C%A8%EC%85%98+%EC%9D%B8%EA%B3%B5%EC%A7%80%EB%8A%A5,78,re_a_kor; _ga_E7TB6KFQFY=GS1.1.1724566774.2.1.1724568704.0.0.0'\n",
    "}\n",
    "\n",
    "result = []\n",
    "for article in articles[:1]:\n",
    "    title = article.select_one(\".cont.ml60 .title a\").text\n",
    "    link = 'https://www.riss.kr' + article.select_one(\".cont.ml60 .title a\").attrs[\"href\"]\n",
    "\n",
    "    # 상세페이지 요청\n",
    "    respone2 = requests.get(link, headers=header)\n",
    "    html2 = respone2.text\n",
    "    soup2 = BeautifulSoup(html2, 'html.parser')\n",
    "    press = soup2.select_one(\".infoDetailL > ul > li:nth-of-type(2) > div\").text\n",
    "    year = soup2.select_one(\".infoDetailL > ul > li:nth-of-type(5) div p\").text\n",
    "    # 키워드가 여러개여서 split()으로 나눔\n",
    "    riss_keywords = soup2.select_one(\".infoDetailL > ul > li:nth-of-type(7) div p\").text.split(\";\")\n",
    "    \n",
    "    # 여러개로 나눈 키워드가 정상적으로 리스트에 담기는지 확인\n",
    "    keywords_result = []\n",
    "    for riss_keyword in riss_keywords:\n",
    "        keyword_riss = riss_keyword.strip()\n",
    "        keywords_result.append(keyword_riss)\n",
    "    print(keywords_result)"
   ]
  },
  {
   "cell_type": "markdown",
   "metadata": {},
   "source": [
    "SSL 오류 발생 시 대응방법"
   ]
  },
  {
   "cell_type": "code",
   "execution_count": 107,
   "metadata": {},
   "outputs": [
    {
     "data": {
      "text/html": [
       "<div>\n",
       "<style scoped>\n",
       "    .dataframe tbody tr th:only-of-type {\n",
       "        vertical-align: middle;\n",
       "    }\n",
       "\n",
       "    .dataframe tbody tr th {\n",
       "        vertical-align: top;\n",
       "    }\n",
       "\n",
       "    .dataframe thead th {\n",
       "        text-align: right;\n",
       "    }\n",
       "</style>\n",
       "<table border=\"1\" class=\"dataframe\">\n",
       "  <thead>\n",
       "    <tr style=\"text-align: right;\">\n",
       "      <th></th>\n",
       "      <th>제목</th>\n",
       "      <th>링크</th>\n",
       "      <th>발행기관</th>\n",
       "      <th>발행연도</th>\n",
       "      <th>주제어</th>\n",
       "    </tr>\n",
       "  </thead>\n",
       "  <tbody>\n",
       "    <tr>\n",
       "      <th>0</th>\n",
       "      <td>패션 제조 기업의 디지털 트랜스포메이션을 위한 인공지능 솔루션 개발 및 활용 현황</td>\n",
       "      <td>https://www.riss.kr/search/detail/DetailView.d...</td>\n",
       "      <td>한국패션비즈니스학회</td>\n",
       "      <td>2022</td>\n",
       "      <td>디지털 트랜스포메이션</td>\n",
       "    </tr>\n",
       "  </tbody>\n",
       "</table>\n",
       "</div>"
      ],
      "text/plain": [
       "                                              제목  \\\n",
       "0  패션 제조 기업의 디지털 트랜스포메이션을 위한 인공지능 솔루션 개발 및 활용 현황   \n",
       "\n",
       "                                                  링크        발행기관  발행연도  \\\n",
       "0  https://www.riss.kr/search/detail/DetailView.d...  한국패션비즈니스학회  2022   \n",
       "\n",
       "           주제어  \n",
       "0  디지털 트랜스포메이션  "
      ]
     },
     "execution_count": 107,
     "metadata": {},
     "output_type": "execute_result"
    }
   ],
   "source": [
    "# 서버에 요청을 많이 보낼 경우 SSL 인증 오류가 발생할 수 있음.\n",
    "# 이 경우, get() 인자에 verify=False 추가\n",
    "# 오류 문구를 제거 하고 싶다면?\n",
    "    # urllib3 적용\n",
    "\n",
    "import urllib3\n",
    "urllib3.disable_warnings()\n",
    "\n",
    "articles = soup.select(\".srchResultListW > ul > li\")\n",
    "\n",
    "header = {\n",
    "    'User-Agent' : 'Mozilla/5.0',\n",
    "    'Referer' : 'https://www.riss.kr/search/Search.do?isDetailSearch=N&searchGubun=true&viewYn=OP&queryText=&strQuery=%ED%8C%A8%EC%85%98+%EC%9D%B8%EA%B3%B5%EC%A7%80%EB%8A%A5&exQuery=&exQueryText=&order=%2FDESC&onHanja=false&strSort=RANK&p_year1=&p_year2=&iStartCount=0&orderBy=&mat_type=&mat_subtype=&fulltext_kind=&t_gubun=&learning_type=&ccl_code=&inside_outside=&fric_yn=&db_type=&image_yn=&gubun=&kdc=&ttsUseYn=&l_sub_code=&fsearchMethod=&sflag=1&isFDetailSearch=N&pageNumber=1&resultKeyword=%ED%8C%A8%EC%85%98+%EC%9D%B8%EA%B3%B5%EC%A7%80%EB%8A%A5&fsearchSort=&fsearchOrder=&limiterList=&limiterListText=&facetList=&facetListText=&fsearchDB=&icate=re_a_kor&colName=re_a_kor&pageScale=100&isTab=Y&regnm=&dorg_storage=&language=&language_code=&clickKeyword=&relationKeyword=&query=%ED%8C%A8%EC%85%98+%EC%9D%B8%EA%B3%B5%EC%A7%80%EB%8A%A5',\n",
    "    'Accept' : 'text/html,application/xhtml+xml,application/xml;q=0.9,image/avif,image/webp,image/apng,*/*;q=0.8,application/signed-exchange;v=b3;q=0.7',\n",
    "    'Accept-Encoding' : 'gzip, deflate, br, zstd',\n",
    "    'Accept-Language' : 'ko-KR,ko;q=0.9,en-US;q=0.8,en;q=0.7',\n",
    "    'Cookie' : 'WMONID=gHVjSDBg752; _ga=GA1.1.423248680.1724564870; JSESSIONID=gMpnLW9YShG4PskCrTZ0qAlk6a2kgNHRNxJiKCPaxSPF1Cb1znIdYA9Y3SlB4sA8.amV1c19kb21haW4vcmlzc3dhczJfY29udGFpbmVyMQ==; TodayView=1a0202e37d52c72d_dcd1a8e873c0ca787ecd42904f0c5d65_%ED%8C%A8%EC%85%98+%EC%A0%9C%EC%A1%B0+%EA%B8%B0%EC%97%85%EC%9D%98+%EB%94%94%EC%A7%80%ED%84%B8+%ED%8A%B8%EB%9E%9C%EC%8A%A4%ED%8F%AC%EB%A9%94%EC%9D%B4%EC%85%98%EC%9D%84+%EC%9C%84%ED%95%9C+%EC%9D%B8%EA%B3%B5%EC%A7%80%EB%8A%A5+%EC%86%94%EB%A3%A8%EC%85%98+%EA%B0%9C%EB%B0%9C+%EB%B0%8F+%ED%99%9C%EC%9A%A9+%ED%98%84%ED%99%A9_RISS; TodayKeyword=%ED%8C%A8%EC%85%98+%EC%9D%B8%EA%B3%B5%EC%A7%80%EB%8A%A5,78,re_a_kor:%ED%8C%A8%EC%85%98+%EC%9D%B8%EA%B3%B5%EC%A7%80%EB%8A%A5,78,re_a_kor:%ED%8C%A8%EC%85%98+%EC%9D%B8%EA%B3%B5%EC%A7%80%EB%8A%A5,78,re_a_kor:%ED%8C%A8%EC%85%98+%EC%9D%B8%EA%B3%B5%EC%A7%80%EB%8A%A5,78,re_a_kor; _ga_E7TB6KFQFY=GS1.1.1724566774.2.1.1724568704.0.0.0'\n",
    "}\n",
    "\n",
    "result = []\n",
    "for article in articles[:1]:\n",
    "    title = article.select_one(\".cont.ml60 .title a\").text\n",
    "    link = 'https://www.riss.kr' + article.select_one(\".cont.ml60 .title a\").attrs[\"href\"]\n",
    "\n",
    "    # 상세페이지 요청\n",
    "    respone2 = requests.get(link, headers=header, verify=False)\n",
    "    html2 = respone2.text\n",
    "    soup2 = BeautifulSoup(html2, 'html.parser')\n",
    "    # 발행기관\n",
    "    press = soup2.select_one(\".infoDetailL > ul > li:nth-of-type(2) > div\").text\n",
    "    year = soup2.select_one(\".infoDetailL > ul > li:nth-of-type(5) div p\").text\n",
    "    riss_keyword = soup2.select_one(\".infoDetailL > ul > li:nth-of-type(7) div p a\").text.strip()\n",
    "    result.append([title, link, press, year, riss_keyword])\n",
    "\n",
    "import pandas as pd\n",
    "\n",
    "df2 = pd.DataFrame(result, columns=['제목', '링크', '발행기관', '발행연도', '주제어'])\n",
    "df2"
   ]
  },
  {
   "cell_type": "markdown",
   "metadata": {},
   "source": [
    "텍스트로 원하는 부분 찾기"
   ]
  },
  {
   "cell_type": "code",
   "execution_count": 109,
   "metadata": {},
   "outputs": [
    {
     "name": "stdout",
     "output_type": "stream",
     "text": [
      "['\\n\\n\\r\\n\\t\\t\\t\\t\\t\\t\\t\\t디지털 트랜스포메이션\\r\\n\\t\\t\\t\\t\\t\\t\\t\\t\\r\\n\\t\\t\\t\\t\\t\\t\\t\\r\\n\\t\\t\\t\\t\\t\\t\\t\\t', '\\xa0 \\r\\n\\t\\t\\t\\t\\t\\t\\t\\t\\r\\n\\t\\t\\t\\t\\t\\t\\t\\t패션산업\\r\\n\\t\\t\\t\\t\\t\\t\\t\\t\\r\\n\\t\\t\\t\\t\\t\\t\\t\\r\\n\\t\\t\\t\\t\\t\\t\\t\\t', '\\xa0 \\r\\n\\t\\t\\t\\t\\t\\t\\t\\t\\r\\n\\t\\t\\t\\t\\t\\t\\t\\t인공지능\\r\\n\\t\\t\\t\\t\\t\\t\\t\\t\\r\\n\\t\\t\\t\\t\\t\\t\\t\\r\\n\\t\\t\\t\\t\\t\\t\\t\\t', '\\xa0 \\r\\n\\t\\t\\t\\t\\t\\t\\t\\t\\r\\n\\t\\t\\t\\t\\t\\t\\t\\tAI 진화 단계\\r\\n\\t\\t\\t\\t\\t\\t\\t\\t\\r\\n\\t\\t\\t\\t\\t\\t\\t\\r\\n\\t\\t\\t\\t\\t\\t\\t\\t', '\\xa0 \\r\\n\\t\\t\\t\\t\\t\\t\\t\\t\\r\\n\\t\\t\\t\\t\\t\\t\\t\\tdigital transformation\\r\\n\\t\\t\\t\\t\\t\\t\\t\\t\\r\\n\\t\\t\\t\\t\\t\\t\\t\\r\\n\\t\\t\\t\\t\\t\\t\\t\\t', '\\xa0 \\r\\n\\t\\t\\t\\t\\t\\t\\t\\t\\r\\n\\t\\t\\t\\t\\t\\t\\t\\tfashion business\\r\\n\\t\\t\\t\\t\\t\\t\\t\\t\\r\\n\\t\\t\\t\\t\\t\\t\\t\\r\\n\\t\\t\\t\\t\\t\\t\\t\\t', '\\xa0 \\r\\n\\t\\t\\t\\t\\t\\t\\t\\t\\r\\n\\t\\t\\t\\t\\t\\t\\t\\tartificial intelligence\\r\\n\\t\\t\\t\\t\\t\\t\\t\\t\\r\\n\\t\\t\\t\\t\\t\\t\\t\\r\\n\\t\\t\\t\\t\\t\\t\\t\\t', '\\xa0 \\r\\n\\t\\t\\t\\t\\t\\t\\t\\t\\r\\n\\t\\t\\t\\t\\t\\t\\t\\tAI evolutionary stage\\r\\n\\t\\t\\t\\t\\t\\t\\t\\t\\n\\n']\n"
     ]
    }
   ],
   "source": [
    "# 특정 요소가 여러 페이지에 일관성 있게 존재하지 않는 경우\n",
    "    # find('태그명', string='찾고자 하는 텍스트')\n",
    "    # find_next_sibling 활용.\n",
    "        # find() 옆에 있는 태그 선택\n",
    "\n",
    "articles = soup.select(\".srchResultListW > ul > li\")\n",
    "\n",
    "header = {\n",
    "    'User-Agent' : 'Mozilla/5.0',\n",
    "    'Referer' : 'https://www.riss.kr/search/Search.do?isDetailSearch=N&searchGubun=true&viewYn=OP&queryText=&strQuery=%ED%8C%A8%EC%85%98+%EC%9D%B8%EA%B3%B5%EC%A7%80%EB%8A%A5&exQuery=&exQueryText=&order=%2FDESC&onHanja=false&strSort=RANK&p_year1=&p_year2=&iStartCount=0&orderBy=&mat_type=&mat_subtype=&fulltext_kind=&t_gubun=&learning_type=&ccl_code=&inside_outside=&fric_yn=&db_type=&image_yn=&gubun=&kdc=&ttsUseYn=&l_sub_code=&fsearchMethod=&sflag=1&isFDetailSearch=N&pageNumber=1&resultKeyword=%ED%8C%A8%EC%85%98+%EC%9D%B8%EA%B3%B5%EC%A7%80%EB%8A%A5&fsearchSort=&fsearchOrder=&limiterList=&limiterListText=&facetList=&facetListText=&fsearchDB=&icate=re_a_kor&colName=re_a_kor&pageScale=100&isTab=Y&regnm=&dorg_storage=&language=&language_code=&clickKeyword=&relationKeyword=&query=%ED%8C%A8%EC%85%98+%EC%9D%B8%EA%B3%B5%EC%A7%80%EB%8A%A5',\n",
    "    'Accept' : 'text/html,application/xhtml+xml,application/xml;q=0.9,image/avif,image/webp,image/apng,*/*;q=0.8,application/signed-exchange;v=b3;q=0.7',\n",
    "    'Accept-Encoding' : 'gzip, deflate, br, zstd',\n",
    "    'Accept-Language' : 'ko-KR,ko;q=0.9,en-US;q=0.8,en;q=0.7',\n",
    "    'Cookie' : 'WMONID=gHVjSDBg752; _ga=GA1.1.423248680.1724564870; JSESSIONID=gMpnLW9YShG4PskCrTZ0qAlk6a2kgNHRNxJiKCPaxSPF1Cb1znIdYA9Y3SlB4sA8.amV1c19kb21haW4vcmlzc3dhczJfY29udGFpbmVyMQ==; TodayView=1a0202e37d52c72d_dcd1a8e873c0ca787ecd42904f0c5d65_%ED%8C%A8%EC%85%98+%EC%A0%9C%EC%A1%B0+%EA%B8%B0%EC%97%85%EC%9D%98+%EB%94%94%EC%A7%80%ED%84%B8+%ED%8A%B8%EB%9E%9C%EC%8A%A4%ED%8F%AC%EB%A9%94%EC%9D%B4%EC%85%98%EC%9D%84+%EC%9C%84%ED%95%9C+%EC%9D%B8%EA%B3%B5%EC%A7%80%EB%8A%A5+%EC%86%94%EB%A3%A8%EC%85%98+%EA%B0%9C%EB%B0%9C+%EB%B0%8F+%ED%99%9C%EC%9A%A9+%ED%98%84%ED%99%A9_RISS; TodayKeyword=%ED%8C%A8%EC%85%98+%EC%9D%B8%EA%B3%B5%EC%A7%80%EB%8A%A5,78,re_a_kor:%ED%8C%A8%EC%85%98+%EC%9D%B8%EA%B3%B5%EC%A7%80%EB%8A%A5,78,re_a_kor:%ED%8C%A8%EC%85%98+%EC%9D%B8%EA%B3%B5%EC%A7%80%EB%8A%A5,78,re_a_kor:%ED%8C%A8%EC%85%98+%EC%9D%B8%EA%B3%B5%EC%A7%80%EB%8A%A5,78,re_a_kor; _ga_E7TB6KFQFY=GS1.1.1724566774.2.1.1724568704.0.0.0'\n",
    "}\n",
    "\n",
    "result = []\n",
    "for article in articles[:1]:\n",
    "    title = article.select_one(\".cont.ml60 .title a\").text\n",
    "    link = 'https://www.riss.kr' + article.select_one(\".cont.ml60 .title a\").attrs[\"href\"]\n",
    "\n",
    "    # 상세페이지 요청\n",
    "    respone2 = requests.get(link, headers=header)\n",
    "    html2 = respone2.text\n",
    "    soup2 = BeautifulSoup(html2, 'html.parser')\n",
    "    # 텍스트로 원하는 부분 선택하기\n",
    "    press = soup2.find('span', string=\"발행기관\").find_next_sibling().text\n",
    "    year = soup2.find('span', string=\"발행연도\").find_next_sibling().text\n",
    "    keywords = soup2.find('span', string=\"주제어\").find_next_sibling().text.split(\";\")\n",
    "    print(keywords)"
   ]
  },
  {
   "cell_type": "markdown",
   "metadata": {},
   "source": [
    "특정 요소가 없는 경우"
   ]
  },
  {
   "cell_type": "code",
   "execution_count": 108,
   "metadata": {},
   "outputs": [
    {
     "name": "stdout",
     "output_type": "stream",
     "text": [
      "디지털 트랜스포메이션\n",
      "패션산업\n",
      "인공지능\n",
      "AI 진화 단계\n",
      "digital transformation\n",
      "fashion business\n",
      "artificial intelligence\n",
      "AI evolutionary stage\n",
      "Artificial Intelligence(인공지능)\n",
      "Fashion Industry(패션산업)\n",
      "Fashion Design (패션 디자인)\n",
      "Artificial Intelligence(인공지능)\n",
      "Fashion Styling Service(패션 스타일링 서비스)\n",
      "Stitch Fix(스티치 픽스)\n",
      "Convergence Content(융합 콘텐츠)\n",
      "인공지능\n",
      "기술 혁신\n",
      "디자인 혁신\n",
      "프로세스 혁신\n",
      "패션 디자인 프로세스 혁신\n",
      "Artificial Intelligence\n",
      "Technological Innovation\n",
      "Design Innovation\n",
      "Process Innovation\n",
      "Fashion Design Process Innovation\n",
      "AI Learning(인공지능 학습)\n",
      "Fashion Generative AI (패션생성형 인공지능)\n",
      "Fashion Daraset(패션 데이터세트)\n",
      "AI　Fashion(인공지능 패션)\n",
      "2D Virtual Try-on\n",
      "AI Fashion Convergence\n",
      "Deep Learning Fashion\n",
      "Fashion Digital Transformation\n",
      "2D 가상 착의\n",
      "AI 패션 융합\n",
      "딥러닝 패션\n",
      "패션디지털 전환\n"
     ]
    },
    {
     "ename": "AttributeError",
     "evalue": "'NoneType' object has no attribute 'find_next_sibling'",
     "output_type": "error",
     "traceback": [
      "\u001b[1;31m---------------------------------------------------------------------------\u001b[0m",
      "\u001b[1;31mAttributeError\u001b[0m                            Traceback (most recent call last)",
      "Cell \u001b[1;32mIn[108], line 24\u001b[0m\n\u001b[0;32m     22\u001b[0m press \u001b[38;5;241m=\u001b[39m soup2\u001b[38;5;241m.\u001b[39mfind(\u001b[38;5;124m'\u001b[39m\u001b[38;5;124mspan\u001b[39m\u001b[38;5;124m'\u001b[39m, string\u001b[38;5;241m=\u001b[39m\u001b[38;5;124m\"\u001b[39m\u001b[38;5;124m발행기관\u001b[39m\u001b[38;5;124m\"\u001b[39m)\u001b[38;5;241m.\u001b[39mfind_next_sibling()\u001b[38;5;241m.\u001b[39mtext\n\u001b[0;32m     23\u001b[0m year \u001b[38;5;241m=\u001b[39m soup2\u001b[38;5;241m.\u001b[39mfind(\u001b[38;5;124m'\u001b[39m\u001b[38;5;124mspan\u001b[39m\u001b[38;5;124m'\u001b[39m, string\u001b[38;5;241m=\u001b[39m\u001b[38;5;124m\"\u001b[39m\u001b[38;5;124m발행연도\u001b[39m\u001b[38;5;124m\"\u001b[39m)\u001b[38;5;241m.\u001b[39mfind_next_sibling()\u001b[38;5;241m.\u001b[39mtext\n\u001b[1;32m---> 24\u001b[0m keywords \u001b[38;5;241m=\u001b[39m \u001b[43msoup2\u001b[49m\u001b[38;5;241;43m.\u001b[39;49m\u001b[43mfind\u001b[49m\u001b[43m(\u001b[49m\u001b[38;5;124;43m'\u001b[39;49m\u001b[38;5;124;43mspan\u001b[39;49m\u001b[38;5;124;43m'\u001b[39;49m\u001b[43m,\u001b[49m\u001b[43m \u001b[49m\u001b[43mstring\u001b[49m\u001b[38;5;241;43m=\u001b[39;49m\u001b[38;5;124;43m\"\u001b[39;49m\u001b[38;5;124;43m주제어\u001b[39;49m\u001b[38;5;124;43m\"\u001b[39;49m\u001b[43m)\u001b[49m\u001b[38;5;241;43m.\u001b[39;49m\u001b[43mfind_next_sibling\u001b[49m()\u001b[38;5;241m.\u001b[39mtext\u001b[38;5;241m.\u001b[39msplit(\u001b[38;5;124m\"\u001b[39m\u001b[38;5;124m;\u001b[39m\u001b[38;5;124m\"\u001b[39m)\n\u001b[0;32m     25\u001b[0m \u001b[38;5;28;01mfor\u001b[39;00m keyword \u001b[38;5;129;01min\u001b[39;00m keywords:\n\u001b[0;32m     26\u001b[0m     \u001b[38;5;28mprint\u001b[39m(keyword\u001b[38;5;241m.\u001b[39mstrip())\n",
      "\u001b[1;31mAttributeError\u001b[0m: 'NoneType' object has no attribute 'find_next_sibling'"
     ]
    }
   ],
   "source": [
    "# 특정 요소가 일관성 있게 존재하지 않는 경우\n",
    "\n",
    "\n",
    "articles = soup.select(\".srchResultListW > ul > li\")\n",
    "\n",
    "header = {\n",
    "    'User-Agent' : 'Mozilla/5.0',\n",
    "    'Referer' : 'https://www.riss.kr/search/Search.do?isDetailSearch=N&searchGubun=true&viewYn=OP&queryText=&strQuery=%ED%8C%A8%EC%85%98+%EC%9D%B8%EA%B3%B5%EC%A7%80%EB%8A%A5&exQuery=&exQueryText=&order=%2FDESC&onHanja=false&strSort=RANK&p_year1=&p_year2=&iStartCount=0&orderBy=&mat_type=&mat_subtype=&fulltext_kind=&t_gubun=&learning_type=&ccl_code=&inside_outside=&fric_yn=&db_type=&image_yn=&gubun=&kdc=&ttsUseYn=&l_sub_code=&fsearchMethod=&sflag=1&isFDetailSearch=N&pageNumber=1&resultKeyword=%ED%8C%A8%EC%85%98+%EC%9D%B8%EA%B3%B5%EC%A7%80%EB%8A%A5&fsearchSort=&fsearchOrder=&limiterList=&limiterListText=&facetList=&facetListText=&fsearchDB=&icate=re_a_kor&colName=re_a_kor&pageScale=100&isTab=Y&regnm=&dorg_storage=&language=&language_code=&clickKeyword=&relationKeyword=&query=%ED%8C%A8%EC%85%98+%EC%9D%B8%EA%B3%B5%EC%A7%80%EB%8A%A5',\n",
    "    'Accept' : 'text/html,application/xhtml+xml,application/xml;q=0.9,image/avif,image/webp,image/apng,*/*;q=0.8,application/signed-exchange;v=b3;q=0.7',\n",
    "    'Accept-Encoding' : 'gzip, deflate, br, zstd',\n",
    "    'Accept-Language' : 'ko-KR,ko;q=0.9,en-US;q=0.8,en;q=0.7',\n",
    "    'Cookie' : 'WMONID=gHVjSDBg752; _ga=GA1.1.423248680.1724564870; JSESSIONID=gMpnLW9YShG4PskCrTZ0qAlk6a2kgNHRNxJiKCPaxSPF1Cb1znIdYA9Y3SlB4sA8.amV1c19kb21haW4vcmlzc3dhczJfY29udGFpbmVyMQ==; TodayView=1a0202e37d52c72d_dcd1a8e873c0ca787ecd42904f0c5d65_%ED%8C%A8%EC%85%98+%EC%A0%9C%EC%A1%B0+%EA%B8%B0%EC%97%85%EC%9D%98+%EB%94%94%EC%A7%80%ED%84%B8+%ED%8A%B8%EB%9E%9C%EC%8A%A4%ED%8F%AC%EB%A9%94%EC%9D%B4%EC%85%98%EC%9D%84+%EC%9C%84%ED%95%9C+%EC%9D%B8%EA%B3%B5%EC%A7%80%EB%8A%A5+%EC%86%94%EB%A3%A8%EC%85%98+%EA%B0%9C%EB%B0%9C+%EB%B0%8F+%ED%99%9C%EC%9A%A9+%ED%98%84%ED%99%A9_RISS; TodayKeyword=%ED%8C%A8%EC%85%98+%EC%9D%B8%EA%B3%B5%EC%A7%80%EB%8A%A5,78,re_a_kor:%ED%8C%A8%EC%85%98+%EC%9D%B8%EA%B3%B5%EC%A7%80%EB%8A%A5,78,re_a_kor:%ED%8C%A8%EC%85%98+%EC%9D%B8%EA%B3%B5%EC%A7%80%EB%8A%A5,78,re_a_kor:%ED%8C%A8%EC%85%98+%EC%9D%B8%EA%B3%B5%EC%A7%80%EB%8A%A5,78,re_a_kor; _ga_E7TB6KFQFY=GS1.1.1724566774.2.1.1724568704.0.0.0'\n",
    "}\n",
    "\n",
    "result = []\n",
    "for article in articles:\n",
    "    title = article.select_one(\".cont.ml60 .title a\").text\n",
    "    link = 'https://www.riss.kr' + article.select_one(\".cont.ml60 .title a\").attrs[\"href\"]\n",
    "\n",
    "    # 상세페이지 요청\n",
    "    respone2 = requests.get(link, headers=header)\n",
    "    html2 = respone2.text\n",
    "    soup2 = BeautifulSoup(html2, 'html.parser')\n",
    "    # 텍스트로 원하는 부분 선택하기\n",
    "    press = soup2.find('span', string=\"발행기관\").find_next_sibling().text\n",
    "    year = soup2.find('span', string=\"발행연도\").find_next_sibling().text\n",
    "    keywords = soup2.find('span', string=\"주제어\").find_next_sibling().text.split(\";\")\n",
    "    for keyword in keywords:\n",
    "        print(keyword.strip())"
   ]
  },
  {
   "cell_type": "markdown",
   "metadata": {},
   "source": [
    "특정 요소가 없는 경우 대처법"
   ]
  },
  {
   "cell_type": "code",
   "execution_count": 110,
   "metadata": {},
   "outputs": [
    {
     "name": "stdout",
     "output_type": "stream",
     "text": [
      "AI evolutionary stage\n",
      "Fashion Design (패션 디자인)\n",
      "Convergence Content(융합 콘텐츠)\n",
      "Fashion Design Process Innovation\n",
      "AI　Fashion(인공지능 패션)\n",
      "패션디지털 전환\n",
      "[]\n",
      "Fashion Industry\n",
      "[]\n",
      "[]\n",
      "Image Generating Artificial Intelligence(이미지 생성형 인공지능)\n",
      "AI Data (인공지능 데이터)\n",
      "Fashion Industry\n",
      "패션상품 추천유형\n",
      "패션리테일링\n",
      "[]\n",
      "[]\n",
      "사례 연구\n",
      "[]\n",
      "[]\n",
      "UX Design(UX디자인)\n",
      "Fashion Design Education (패션 디자인 교육)\n",
      "humanity\n",
      "Artificial intelligence\n",
      "노이즈 제거\n",
      "창의적 업무\n",
      "디지털기술력\n",
      "interaction\n"
     ]
    },
    {
     "ename": "KeyboardInterrupt",
     "evalue": "",
     "output_type": "error",
     "traceback": [
      "\u001b[1;31m---------------------------------------------------------------------------\u001b[0m",
      "\u001b[1;31mKeyboardInterrupt\u001b[0m                         Traceback (most recent call last)",
      "Cell \u001b[1;32mIn[110], line 23\u001b[0m\n\u001b[0;32m     21\u001b[0m respone2 \u001b[38;5;241m=\u001b[39m requests\u001b[38;5;241m.\u001b[39mget(link, headers\u001b[38;5;241m=\u001b[39mheader)\n\u001b[0;32m     22\u001b[0m html2 \u001b[38;5;241m=\u001b[39m respone2\u001b[38;5;241m.\u001b[39mtext\n\u001b[1;32m---> 23\u001b[0m soup2 \u001b[38;5;241m=\u001b[39m \u001b[43mBeautifulSoup\u001b[49m\u001b[43m(\u001b[49m\u001b[43mhtml2\u001b[49m\u001b[43m,\u001b[49m\u001b[43m \u001b[49m\u001b[38;5;124;43m'\u001b[39;49m\u001b[38;5;124;43mhtml.parser\u001b[39;49m\u001b[38;5;124;43m'\u001b[39;49m\u001b[43m)\u001b[49m\n\u001b[0;32m     24\u001b[0m \u001b[38;5;66;03m# 텍스트로 원하는 부분 선택하기\u001b[39;00m\n\u001b[0;32m     25\u001b[0m press \u001b[38;5;241m=\u001b[39m soup2\u001b[38;5;241m.\u001b[39mfind(\u001b[38;5;124m'\u001b[39m\u001b[38;5;124mspan\u001b[39m\u001b[38;5;124m'\u001b[39m, string\u001b[38;5;241m=\u001b[39m\u001b[38;5;124m\"\u001b[39m\u001b[38;5;124m발행기관\u001b[39m\u001b[38;5;124m\"\u001b[39m)\u001b[38;5;241m.\u001b[39mfind_next_sibling()\u001b[38;5;241m.\u001b[39mtext\n",
      "File \u001b[1;32m~\\AppData\\Local\\Packages\\PythonSoftwareFoundation.Python.3.12_qbz5n2kfra8p0\\LocalCache\\local-packages\\Python312\\site-packages\\bs4\\__init__.py:335\u001b[0m, in \u001b[0;36mBeautifulSoup.__init__\u001b[1;34m(self, markup, features, builder, parse_only, from_encoding, exclude_encodings, element_classes, **kwargs)\u001b[0m\n\u001b[0;32m    333\u001b[0m \u001b[38;5;28mself\u001b[39m\u001b[38;5;241m.\u001b[39mbuilder\u001b[38;5;241m.\u001b[39minitialize_soup(\u001b[38;5;28mself\u001b[39m)\n\u001b[0;32m    334\u001b[0m \u001b[38;5;28;01mtry\u001b[39;00m:\n\u001b[1;32m--> 335\u001b[0m     \u001b[38;5;28;43mself\u001b[39;49m\u001b[38;5;241;43m.\u001b[39;49m\u001b[43m_feed\u001b[49m\u001b[43m(\u001b[49m\u001b[43m)\u001b[49m\n\u001b[0;32m    336\u001b[0m     success \u001b[38;5;241m=\u001b[39m \u001b[38;5;28;01mTrue\u001b[39;00m\n\u001b[0;32m    337\u001b[0m     \u001b[38;5;28;01mbreak\u001b[39;00m\n",
      "File \u001b[1;32m~\\AppData\\Local\\Packages\\PythonSoftwareFoundation.Python.3.12_qbz5n2kfra8p0\\LocalCache\\local-packages\\Python312\\site-packages\\bs4\\__init__.py:478\u001b[0m, in \u001b[0;36mBeautifulSoup._feed\u001b[1;34m(self)\u001b[0m\n\u001b[0;32m    475\u001b[0m \u001b[38;5;66;03m# Convert the document to Unicode.\u001b[39;00m\n\u001b[0;32m    476\u001b[0m \u001b[38;5;28mself\u001b[39m\u001b[38;5;241m.\u001b[39mbuilder\u001b[38;5;241m.\u001b[39mreset()\n\u001b[1;32m--> 478\u001b[0m \u001b[38;5;28;43mself\u001b[39;49m\u001b[38;5;241;43m.\u001b[39;49m\u001b[43mbuilder\u001b[49m\u001b[38;5;241;43m.\u001b[39;49m\u001b[43mfeed\u001b[49m\u001b[43m(\u001b[49m\u001b[38;5;28;43mself\u001b[39;49m\u001b[38;5;241;43m.\u001b[39;49m\u001b[43mmarkup\u001b[49m\u001b[43m)\u001b[49m\n\u001b[0;32m    479\u001b[0m \u001b[38;5;66;03m# Close out any unfinished strings and close all the open tags.\u001b[39;00m\n\u001b[0;32m    480\u001b[0m \u001b[38;5;28mself\u001b[39m\u001b[38;5;241m.\u001b[39mendData()\n",
      "File \u001b[1;32m~\\AppData\\Local\\Packages\\PythonSoftwareFoundation.Python.3.12_qbz5n2kfra8p0\\LocalCache\\local-packages\\Python312\\site-packages\\bs4\\builder\\_htmlparser.py:380\u001b[0m, in \u001b[0;36mHTMLParserTreeBuilder.feed\u001b[1;34m(self, markup)\u001b[0m\n\u001b[0;32m    378\u001b[0m parser\u001b[38;5;241m.\u001b[39msoup \u001b[38;5;241m=\u001b[39m \u001b[38;5;28mself\u001b[39m\u001b[38;5;241m.\u001b[39msoup\n\u001b[0;32m    379\u001b[0m \u001b[38;5;28;01mtry\u001b[39;00m:\n\u001b[1;32m--> 380\u001b[0m     \u001b[43mparser\u001b[49m\u001b[38;5;241;43m.\u001b[39;49m\u001b[43mfeed\u001b[49m\u001b[43m(\u001b[49m\u001b[43mmarkup\u001b[49m\u001b[43m)\u001b[49m\n\u001b[0;32m    381\u001b[0m     parser\u001b[38;5;241m.\u001b[39mclose()\n\u001b[0;32m    382\u001b[0m \u001b[38;5;28;01mexcept\u001b[39;00m \u001b[38;5;167;01mAssertionError\u001b[39;00m \u001b[38;5;28;01mas\u001b[39;00m e:\n\u001b[0;32m    383\u001b[0m     \u001b[38;5;66;03m# html.parser raises AssertionError in rare cases to\u001b[39;00m\n\u001b[0;32m    384\u001b[0m     \u001b[38;5;66;03m# indicate a fatal problem with the markup, especially\u001b[39;00m\n\u001b[0;32m    385\u001b[0m     \u001b[38;5;66;03m# when there's an error in the doctype declaration.\u001b[39;00m\n",
      "File \u001b[1;32mC:\\Program Files\\WindowsApps\\PythonSoftwareFoundation.Python.3.12_3.12.1520.0_x64__qbz5n2kfra8p0\\Lib\\html\\parser.py:111\u001b[0m, in \u001b[0;36mHTMLParser.feed\u001b[1;34m(self, data)\u001b[0m\n\u001b[0;32m    105\u001b[0m \u001b[38;5;250m\u001b[39m\u001b[38;5;124mr\u001b[39m\u001b[38;5;124;03m\"\"\"Feed data to the parser.\u001b[39;00m\n\u001b[0;32m    106\u001b[0m \n\u001b[0;32m    107\u001b[0m \u001b[38;5;124;03mCall this as often as you want, with as little or as much text\u001b[39;00m\n\u001b[0;32m    108\u001b[0m \u001b[38;5;124;03mas you want (may include '\\n').\u001b[39;00m\n\u001b[0;32m    109\u001b[0m \u001b[38;5;124;03m\"\"\"\u001b[39;00m\n\u001b[0;32m    110\u001b[0m \u001b[38;5;28mself\u001b[39m\u001b[38;5;241m.\u001b[39mrawdata \u001b[38;5;241m=\u001b[39m \u001b[38;5;28mself\u001b[39m\u001b[38;5;241m.\u001b[39mrawdata \u001b[38;5;241m+\u001b[39m data\n\u001b[1;32m--> 111\u001b[0m \u001b[38;5;28;43mself\u001b[39;49m\u001b[38;5;241;43m.\u001b[39;49m\u001b[43mgoahead\u001b[49m\u001b[43m(\u001b[49m\u001b[38;5;241;43m0\u001b[39;49m\u001b[43m)\u001b[49m\n",
      "File \u001b[1;32mC:\\Program Files\\WindowsApps\\PythonSoftwareFoundation.Python.3.12_3.12.1520.0_x64__qbz5n2kfra8p0\\Lib\\html\\parser.py:171\u001b[0m, in \u001b[0;36mHTMLParser.goahead\u001b[1;34m(self, end)\u001b[0m\n\u001b[0;32m    169\u001b[0m \u001b[38;5;28;01mif\u001b[39;00m startswith(\u001b[38;5;124m'\u001b[39m\u001b[38;5;124m<\u001b[39m\u001b[38;5;124m'\u001b[39m, i):\n\u001b[0;32m    170\u001b[0m     \u001b[38;5;28;01mif\u001b[39;00m starttagopen\u001b[38;5;241m.\u001b[39mmatch(rawdata, i): \u001b[38;5;66;03m# < + letter\u001b[39;00m\n\u001b[1;32m--> 171\u001b[0m         k \u001b[38;5;241m=\u001b[39m \u001b[38;5;28;43mself\u001b[39;49m\u001b[38;5;241;43m.\u001b[39;49m\u001b[43mparse_starttag\u001b[49m\u001b[43m(\u001b[49m\u001b[43mi\u001b[49m\u001b[43m)\u001b[49m\n\u001b[0;32m    172\u001b[0m     \u001b[38;5;28;01melif\u001b[39;00m startswith(\u001b[38;5;124m\"\u001b[39m\u001b[38;5;124m</\u001b[39m\u001b[38;5;124m\"\u001b[39m, i):\n\u001b[0;32m    173\u001b[0m         k \u001b[38;5;241m=\u001b[39m \u001b[38;5;28mself\u001b[39m\u001b[38;5;241m.\u001b[39mparse_endtag(i)\n",
      "File \u001b[1;32mC:\\Program Files\\WindowsApps\\PythonSoftwareFoundation.Python.3.12_3.12.1520.0_x64__qbz5n2kfra8p0\\Lib\\html\\parser.py:338\u001b[0m, in \u001b[0;36mHTMLParser.parse_starttag\u001b[1;34m(self, i)\u001b[0m\n\u001b[0;32m    336\u001b[0m     \u001b[38;5;28mself\u001b[39m\u001b[38;5;241m.\u001b[39mhandle_startendtag(tag, attrs)\n\u001b[0;32m    337\u001b[0m \u001b[38;5;28;01melse\u001b[39;00m:\n\u001b[1;32m--> 338\u001b[0m     \u001b[38;5;28;43mself\u001b[39;49m\u001b[38;5;241;43m.\u001b[39;49m\u001b[43mhandle_starttag\u001b[49m\u001b[43m(\u001b[49m\u001b[43mtag\u001b[49m\u001b[43m,\u001b[49m\u001b[43m \u001b[49m\u001b[43mattrs\u001b[49m\u001b[43m)\u001b[49m\n\u001b[0;32m    339\u001b[0m     \u001b[38;5;28;01mif\u001b[39;00m tag \u001b[38;5;129;01min\u001b[39;00m \u001b[38;5;28mself\u001b[39m\u001b[38;5;241m.\u001b[39mCDATA_CONTENT_ELEMENTS:\n\u001b[0;32m    340\u001b[0m         \u001b[38;5;28mself\u001b[39m\u001b[38;5;241m.\u001b[39mset_cdata_mode(tag)\n",
      "File \u001b[1;32m~\\AppData\\Local\\Packages\\PythonSoftwareFoundation.Python.3.12_qbz5n2kfra8p0\\LocalCache\\local-packages\\Python312\\site-packages\\bs4\\builder\\_htmlparser.py:137\u001b[0m, in \u001b[0;36mBeautifulSoupHTMLParser.handle_starttag\u001b[1;34m(self, name, attrs, handle_empty_element)\u001b[0m\n\u001b[0;32m    135\u001b[0m \u001b[38;5;66;03m#print(\"START\", name)\u001b[39;00m\n\u001b[0;32m    136\u001b[0m sourceline, sourcepos \u001b[38;5;241m=\u001b[39m \u001b[38;5;28mself\u001b[39m\u001b[38;5;241m.\u001b[39mgetpos()\n\u001b[1;32m--> 137\u001b[0m tag \u001b[38;5;241m=\u001b[39m \u001b[38;5;28;43mself\u001b[39;49m\u001b[38;5;241;43m.\u001b[39;49m\u001b[43msoup\u001b[49m\u001b[38;5;241;43m.\u001b[39;49m\u001b[43mhandle_starttag\u001b[49m\u001b[43m(\u001b[49m\n\u001b[0;32m    138\u001b[0m \u001b[43m    \u001b[49m\u001b[43mname\u001b[49m\u001b[43m,\u001b[49m\u001b[43m \u001b[49m\u001b[38;5;28;43;01mNone\u001b[39;49;00m\u001b[43m,\u001b[49m\u001b[43m \u001b[49m\u001b[38;5;28;43;01mNone\u001b[39;49;00m\u001b[43m,\u001b[49m\u001b[43m \u001b[49m\u001b[43mattr_dict\u001b[49m\u001b[43m,\u001b[49m\u001b[43m \u001b[49m\u001b[43msourceline\u001b[49m\u001b[38;5;241;43m=\u001b[39;49m\u001b[43msourceline\u001b[49m\u001b[43m,\u001b[49m\n\u001b[0;32m    139\u001b[0m \u001b[43m    \u001b[49m\u001b[43msourcepos\u001b[49m\u001b[38;5;241;43m=\u001b[39;49m\u001b[43msourcepos\u001b[49m\n\u001b[0;32m    140\u001b[0m \u001b[43m\u001b[49m\u001b[43m)\u001b[49m\n\u001b[0;32m    141\u001b[0m \u001b[38;5;28;01mif\u001b[39;00m tag \u001b[38;5;129;01mand\u001b[39;00m tag\u001b[38;5;241m.\u001b[39mis_empty_element \u001b[38;5;129;01mand\u001b[39;00m handle_empty_element:\n\u001b[0;32m    142\u001b[0m     \u001b[38;5;66;03m# Unlike other parsers, html.parser doesn't send separate end tag\u001b[39;00m\n\u001b[0;32m    143\u001b[0m     \u001b[38;5;66;03m# events for empty-element tags. (It's handled in\u001b[39;00m\n\u001b[1;32m   (...)\u001b[0m\n\u001b[0;32m    149\u001b[0m     \u001b[38;5;66;03m# don't want handle_endtag() to cross off any previous end\u001b[39;00m\n\u001b[0;32m    150\u001b[0m     \u001b[38;5;66;03m# events for tags of this name.\u001b[39;00m\n\u001b[0;32m    151\u001b[0m     \u001b[38;5;28mself\u001b[39m\u001b[38;5;241m.\u001b[39mhandle_endtag(name, check_already_closed\u001b[38;5;241m=\u001b[39m\u001b[38;5;28;01mFalse\u001b[39;00m)\n",
      "File \u001b[1;32m~\\AppData\\Local\\Packages\\PythonSoftwareFoundation.Python.3.12_qbz5n2kfra8p0\\LocalCache\\local-packages\\Python312\\site-packages\\bs4\\__init__.py:742\u001b[0m, in \u001b[0;36mBeautifulSoup.handle_starttag\u001b[1;34m(self, name, namespace, nsprefix, attrs, sourceline, sourcepos, namespaces)\u001b[0m\n\u001b[0;32m    724\u001b[0m \u001b[38;5;250m\u001b[39m\u001b[38;5;124;03m\"\"\"Called by the tree builder when a new tag is encountered.\u001b[39;00m\n\u001b[0;32m    725\u001b[0m \n\u001b[0;32m    726\u001b[0m \u001b[38;5;124;03m:param name: Name of the tag.\u001b[39;00m\n\u001b[1;32m   (...)\u001b[0m\n\u001b[0;32m    739\u001b[0m \u001b[38;5;124;03mdon't call handle_endtag.\u001b[39;00m\n\u001b[0;32m    740\u001b[0m \u001b[38;5;124;03m\"\"\"\u001b[39;00m\n\u001b[0;32m    741\u001b[0m \u001b[38;5;66;03m# print(\"Start tag %s: %s\" % (name, attrs))\u001b[39;00m\n\u001b[1;32m--> 742\u001b[0m \u001b[38;5;28;43mself\u001b[39;49m\u001b[38;5;241;43m.\u001b[39;49m\u001b[43mendData\u001b[49m\u001b[43m(\u001b[49m\u001b[43m)\u001b[49m\n\u001b[0;32m    744\u001b[0m \u001b[38;5;28;01mif\u001b[39;00m (\u001b[38;5;28mself\u001b[39m\u001b[38;5;241m.\u001b[39mparse_only \u001b[38;5;129;01mand\u001b[39;00m \u001b[38;5;28mlen\u001b[39m(\u001b[38;5;28mself\u001b[39m\u001b[38;5;241m.\u001b[39mtagStack) \u001b[38;5;241m<\u001b[39m\u001b[38;5;241m=\u001b[39m \u001b[38;5;241m1\u001b[39m\n\u001b[0;32m    745\u001b[0m     \u001b[38;5;129;01mand\u001b[39;00m (\u001b[38;5;28mself\u001b[39m\u001b[38;5;241m.\u001b[39mparse_only\u001b[38;5;241m.\u001b[39mtext\n\u001b[0;32m    746\u001b[0m          \u001b[38;5;129;01mor\u001b[39;00m \u001b[38;5;129;01mnot\u001b[39;00m \u001b[38;5;28mself\u001b[39m\u001b[38;5;241m.\u001b[39mparse_only\u001b[38;5;241m.\u001b[39msearch_tag(name, attrs))):\n\u001b[0;32m    747\u001b[0m     \u001b[38;5;28;01mreturn\u001b[39;00m \u001b[38;5;28;01mNone\u001b[39;00m\n",
      "File \u001b[1;32m~\\AppData\\Local\\Packages\\PythonSoftwareFoundation.Python.3.12_qbz5n2kfra8p0\\LocalCache\\local-packages\\Python312\\site-packages\\bs4\\__init__.py:618\u001b[0m, in \u001b[0;36mBeautifulSoup.endData\u001b[1;34m(self, containerClass)\u001b[0m\n\u001b[0;32m    616\u001b[0m containerClass \u001b[38;5;241m=\u001b[39m \u001b[38;5;28mself\u001b[39m\u001b[38;5;241m.\u001b[39mstring_container(containerClass)\n\u001b[0;32m    617\u001b[0m o \u001b[38;5;241m=\u001b[39m containerClass(current_data)\n\u001b[1;32m--> 618\u001b[0m \u001b[38;5;28;43mself\u001b[39;49m\u001b[38;5;241;43m.\u001b[39;49m\u001b[43mobject_was_parsed\u001b[49m\u001b[43m(\u001b[49m\u001b[43mo\u001b[49m\u001b[43m)\u001b[49m\n",
      "File \u001b[1;32m~\\AppData\\Local\\Packages\\PythonSoftwareFoundation.Python.3.12_qbz5n2kfra8p0\\LocalCache\\local-packages\\Python312\\site-packages\\bs4\\__init__.py:639\u001b[0m, in \u001b[0;36mBeautifulSoup.object_was_parsed\u001b[1;34m(self, o, parent, most_recent_element)\u001b[0m\n\u001b[0;32m    635\u001b[0m         previous_element \u001b[38;5;241m=\u001b[39m o\u001b[38;5;241m.\u001b[39mprevious_element\n\u001b[0;32m    637\u001b[0m fix \u001b[38;5;241m=\u001b[39m parent\u001b[38;5;241m.\u001b[39mnext_element \u001b[38;5;129;01mis\u001b[39;00m \u001b[38;5;129;01mnot\u001b[39;00m \u001b[38;5;28;01mNone\u001b[39;00m\n\u001b[1;32m--> 639\u001b[0m \u001b[43mo\u001b[49m\u001b[38;5;241;43m.\u001b[39;49m\u001b[43msetup\u001b[49m\u001b[43m(\u001b[49m\u001b[43mparent\u001b[49m\u001b[43m,\u001b[49m\u001b[43m \u001b[49m\u001b[43mprevious_element\u001b[49m\u001b[43m,\u001b[49m\u001b[43m \u001b[49m\u001b[43mnext_element\u001b[49m\u001b[43m,\u001b[49m\u001b[43m \u001b[49m\u001b[43mprevious_sibling\u001b[49m\u001b[43m,\u001b[49m\u001b[43m \u001b[49m\u001b[43mnext_sibling\u001b[49m\u001b[43m)\u001b[49m\n\u001b[0;32m    641\u001b[0m \u001b[38;5;28mself\u001b[39m\u001b[38;5;241m.\u001b[39m_most_recent_element \u001b[38;5;241m=\u001b[39m o\n\u001b[0;32m    642\u001b[0m parent\u001b[38;5;241m.\u001b[39mcontents\u001b[38;5;241m.\u001b[39mappend(o)\n",
      "File \u001b[1;32m~\\AppData\\Local\\Packages\\PythonSoftwareFoundation.Python.3.12_qbz5n2kfra8p0\\LocalCache\\local-packages\\Python312\\site-packages\\bs4\\element.py:156\u001b[0m, in \u001b[0;36mPageElement.setup\u001b[1;34m(self, parent, previous_element, next_element, previous_sibling, next_sibling)\u001b[0m\n\u001b[0;32m    151\u001b[0m \u001b[38;5;66;03m# In general, we can't tell just by looking at an element whether\u001b[39;00m\n\u001b[0;32m    152\u001b[0m \u001b[38;5;66;03m# it's contained in an XML document or an HTML document. But for\u001b[39;00m\n\u001b[0;32m    153\u001b[0m \u001b[38;5;66;03m# Tags (q.v.) we can store this information at parse time.\u001b[39;00m\n\u001b[0;32m    154\u001b[0m known_xml \u001b[38;5;241m=\u001b[39m \u001b[38;5;28;01mNone\u001b[39;00m\n\u001b[1;32m--> 156\u001b[0m \u001b[38;5;28;01mdef\u001b[39;00m \u001b[38;5;21msetup\u001b[39m(\u001b[38;5;28mself\u001b[39m, parent\u001b[38;5;241m=\u001b[39m\u001b[38;5;28;01mNone\u001b[39;00m, previous_element\u001b[38;5;241m=\u001b[39m\u001b[38;5;28;01mNone\u001b[39;00m, next_element\u001b[38;5;241m=\u001b[39m\u001b[38;5;28;01mNone\u001b[39;00m,\n\u001b[0;32m    157\u001b[0m           previous_sibling\u001b[38;5;241m=\u001b[39m\u001b[38;5;28;01mNone\u001b[39;00m, next_sibling\u001b[38;5;241m=\u001b[39m\u001b[38;5;28;01mNone\u001b[39;00m):\n\u001b[0;32m    158\u001b[0m \u001b[38;5;250m    \u001b[39m\u001b[38;5;124;03m\"\"\"Sets up the initial relations between this element and\u001b[39;00m\n\u001b[0;32m    159\u001b[0m \u001b[38;5;124;03m    other elements.\u001b[39;00m\n\u001b[0;32m    160\u001b[0m \n\u001b[1;32m   (...)\u001b[0m\n\u001b[0;32m    173\u001b[0m \u001b[38;5;124;03m        on the same level of the parse tree as this one.\u001b[39;00m\n\u001b[0;32m    174\u001b[0m \u001b[38;5;124;03m    \"\"\"\u001b[39;00m\n\u001b[0;32m    175\u001b[0m     \u001b[38;5;28mself\u001b[39m\u001b[38;5;241m.\u001b[39mparent \u001b[38;5;241m=\u001b[39m parent\n",
      "\u001b[1;31mKeyboardInterrupt\u001b[0m: "
     ]
    }
   ],
   "source": [
    "# if 조건문을 활용해서 없는 경우를 대처\n",
    "# 없는 경우 'None'을 반환 하는 걸 기억.\n",
    "\n",
    "articles = soup.select(\".srchResultListW > ul > li\")\n",
    "\n",
    "header = {\n",
    "    'User-Agent' : 'Mozilla/5.0',\n",
    "    'Referer' : 'https://www.riss.kr/search/Search.do?isDetailSearch=N&searchGubun=true&viewYn=OP&queryText=&strQuery=%ED%8C%A8%EC%85%98+%EC%9D%B8%EA%B3%B5%EC%A7%80%EB%8A%A5&exQuery=&exQueryText=&order=%2FDESC&onHanja=false&strSort=RANK&p_year1=&p_year2=&iStartCount=0&orderBy=&mat_type=&mat_subtype=&fulltext_kind=&t_gubun=&learning_type=&ccl_code=&inside_outside=&fric_yn=&db_type=&image_yn=&gubun=&kdc=&ttsUseYn=&l_sub_code=&fsearchMethod=&sflag=1&isFDetailSearch=N&pageNumber=1&resultKeyword=%ED%8C%A8%EC%85%98+%EC%9D%B8%EA%B3%B5%EC%A7%80%EB%8A%A5&fsearchSort=&fsearchOrder=&limiterList=&limiterListText=&facetList=&facetListText=&fsearchDB=&icate=re_a_kor&colName=re_a_kor&pageScale=100&isTab=Y&regnm=&dorg_storage=&language=&language_code=&clickKeyword=&relationKeyword=&query=%ED%8C%A8%EC%85%98+%EC%9D%B8%EA%B3%B5%EC%A7%80%EB%8A%A5',\n",
    "    'Accept' : 'text/html,application/xhtml+xml,application/xml;q=0.9,image/avif,image/webp,image/apng,*/*;q=0.8,application/signed-exchange;v=b3;q=0.7',\n",
    "    'Accept-Encoding' : 'gzip, deflate, br, zstd',\n",
    "    'Accept-Language' : 'ko-KR,ko;q=0.9,en-US;q=0.8,en;q=0.7',\n",
    "    'Cookie' : 'WMONID=gHVjSDBg752; _ga=GA1.1.423248680.1724564870; JSESSIONID=gMpnLW9YShG4PskCrTZ0qAlk6a2kgNHRNxJiKCPaxSPF1Cb1znIdYA9Y3SlB4sA8.amV1c19kb21haW4vcmlzc3dhczJfY29udGFpbmVyMQ==; TodayView=1a0202e37d52c72d_dcd1a8e873c0ca787ecd42904f0c5d65_%ED%8C%A8%EC%85%98+%EC%A0%9C%EC%A1%B0+%EA%B8%B0%EC%97%85%EC%9D%98+%EB%94%94%EC%A7%80%ED%84%B8+%ED%8A%B8%EB%9E%9C%EC%8A%A4%ED%8F%AC%EB%A9%94%EC%9D%B4%EC%85%98%EC%9D%84+%EC%9C%84%ED%95%9C+%EC%9D%B8%EA%B3%B5%EC%A7%80%EB%8A%A5+%EC%86%94%EB%A3%A8%EC%85%98+%EA%B0%9C%EB%B0%9C+%EB%B0%8F+%ED%99%9C%EC%9A%A9+%ED%98%84%ED%99%A9_RISS; TodayKeyword=%ED%8C%A8%EC%85%98+%EC%9D%B8%EA%B3%B5%EC%A7%80%EB%8A%A5,78,re_a_kor:%ED%8C%A8%EC%85%98+%EC%9D%B8%EA%B3%B5%EC%A7%80%EB%8A%A5,78,re_a_kor:%ED%8C%A8%EC%85%98+%EC%9D%B8%EA%B3%B5%EC%A7%80%EB%8A%A5,78,re_a_kor:%ED%8C%A8%EC%85%98+%EC%9D%B8%EA%B3%B5%EC%A7%80%EB%8A%A5,78,re_a_kor; _ga_E7TB6KFQFY=GS1.1.1724566774.2.1.1724568704.0.0.0'\n",
    "}\n",
    "\n",
    "result = []\n",
    "for article in articles:\n",
    "    title = article.select_one(\".cont.ml60 .title a\").text\n",
    "    link = 'https://www.riss.kr' + article.select_one(\".cont.ml60 .title a\").attrs[\"href\"]\n",
    "\n",
    "    # 상세페이지 요청\n",
    "    respone2 = requests.get(link, headers=header)\n",
    "    html2 = respone2.text\n",
    "    soup2 = BeautifulSoup(html2, 'html.parser')\n",
    "    # 텍스트로 원하는 부분 선택하기\n",
    "    press = soup2.find('span', string=\"발행기관\").find_next_sibling().text\n",
    "    year = soup2.find('span', string=\"발행연도\").find_next_sibling().text\n",
    "    \n",
    "    # True인 경우\n",
    "    if soup2.find('span', string=\"주제어\"):\n",
    "        keywords = soup2.find('span', string=\"주제어\").find_next_sibling().text.split(\";\")\n",
    "        for keyword in keywords:\n",
    "            keywords = keyword.strip()\n",
    "    # 결과가 None인 경우\n",
    "    else:\n",
    "        keywords = []\n",
    "    print(keywords)"
   ]
  }
 ],
 "metadata": {
  "kernelspec": {
   "display_name": "Python 3",
   "language": "python",
   "name": "python3"
  },
  "language_info": {
   "codemirror_mode": {
    "name": "ipython",
    "version": 3
   },
   "file_extension": ".py",
   "mimetype": "text/x-python",
   "name": "python",
   "nbconvert_exporter": "python",
   "pygments_lexer": "ipython3",
   "version": "3.12.5"
  }
 },
 "nbformat": 4,
 "nbformat_minor": 2
}
