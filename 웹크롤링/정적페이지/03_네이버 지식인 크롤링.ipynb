{
 "cells": [
  {
   "cell_type": "code",
   "execution_count": null,
   "metadata": {},
   "outputs": [],
   "source": [
    "import requests\n",
    "from bs4 import BeautifulSoup\n",
    "\n",
    "respone= requests.get(\"https://kin.naver.com/search/list.naver?query=%EC%82%BC%EC%84%B1%EC%A0%84%EC%9E%90\")\n",
    "html = respone.text\n",
    "soup = BeautifulSoup(html, 'html.parser')"
   ]
  },
  {
   "cell_type": "code",
   "execution_count": null,
   "metadata": {},
   "outputs": [],
   "source": [
    "# 제목\n",
    "soup.select_one(\"._nclicks\\:kin\\.txt._searchListTitleAnchor\").text"
   ]
  },
  {
   "cell_type": "code",
   "execution_count": null,
   "metadata": {},
   "outputs": [],
   "source": [
    "# 링크\n",
    "soup.select_one(\"._nclicks\\:kin\\.txt._searchListTitleAnchor\").attrs['href']"
   ]
  },
  {
   "cell_type": "code",
   "execution_count": null,
   "metadata": {},
   "outputs": [],
   "source": [
    "# 날짜\n",
    "soup.select_one(\".txt_inline\").text"
   ]
  },
  {
   "cell_type": "code",
   "execution_count": null,
   "metadata": {},
   "outputs": [],
   "source": [
    "# 카테고리\n",
    "soup.select_one(\".txt_block > a:nth-of-type(2)\").text"
   ]
  },
  {
   "cell_type": "code",
   "execution_count": null,
   "metadata": {},
   "outputs": [],
   "source": [
    "# 답변수\n",
    "soup.select_one(\".hit\").text.split(\" \")[1]"
   ]
  },
  {
   "cell_type": "markdown",
   "metadata": {},
   "source": [
    "### 나무태그 찾기"
   ]
  },
  {
   "cell_type": "markdown",
   "metadata": {},
   "source": [
    "첫 페이지 크롤링"
   ]
  },
  {
   "cell_type": "code",
   "execution_count": null,
   "metadata": {},
   "outputs": [],
   "source": [
    "\n",
    "result = []\n",
    "articles = soup.select(\"li > dl\")\n",
    "for article in articles:\n",
    "    title = article.select_one(\"._nclicks\\\\:kin\\\\.txt._searchListTitleAnchor\").text\n",
    "    link = article.select_one(\"._nclicks\\\\:kin\\\\.txt._searchListTitleAnchor\").attrs['href']\n",
    "    date = article.select_one(\".txt_inline\").text\n",
    "    category = article.select_one(\".txt_block > a:nth-of-type(2)\").text\n",
    "    answer = article.select_one(\".hit\").text.split(\" \")[1]\n",
    "    result.append([title, link, date, category, answer])\n",
    "result"
   ]
  },
  {
   "cell_type": "markdown",
   "metadata": {},
   "source": [
    "3페이지까지 크롤링"
   ]
  },
  {
   "cell_type": "code",
   "execution_count": null,
   "metadata": {},
   "outputs": [],
   "source": [
    "# 페이지마다 변하는 특정 부분 확인\n",
    "# 반복문, f스트링 활용해서 원하는 페이지 지정\n",
    "\n",
    "for i in range(1, 4):\n",
    "    respone= requests.get(f\"https://kin.naver.com/search/list.naver?query=%EC%82%BC%EC%84%B1%EC%A0%84%EC%9E%90&page={i}\")\n",
    "    html = respone.text\n",
    "    soup = BeautifulSoup(html, 'html.parser')\n",
    "    result = []\n",
    "    articles = soup.select(\"li > dl\")\n",
    "    for article in articles:\n",
    "        title = article.select_one(\"._nclicks\\\\:kin\\\\.txt._searchListTitleAnchor\").text\n",
    "        link = article.select_one(\"._nclicks\\\\:kin\\\\.txt._searchListTitleAnchor\").attrs['href']\n",
    "        date = article.select_one(\".txt_inline\").text\n",
    "        category = article.select_one(\".txt_block > a:nth-of-type(2)\").text\n",
    "        answer = article.select_one(\".hit\").text.split(\" \")[1]\n",
    "        result.append([title, link, date, category, answer])\n",
    "    result\n",
    "result"
   ]
  },
  {
   "cell_type": "markdown",
   "metadata": {},
   "source": [
    "사용자입력 받아서 크롤링 하기"
   ]
  },
  {
   "cell_type": "code",
   "execution_count": null,
   "metadata": {},
   "outputs": [],
   "source": [
    "# input() 활용\n",
    "    # input() 값을 정수로 변환\n",
    "        # 반복문 범위를 지정할 때 숫자와 연산할 것이기 때문에\n",
    "\n",
    "# range()를 사용할 때는 범위를 고려해서 연산하기\n",
    "\n",
    "\n",
    "page = int(input(\"크롤링 할 페이지를 입력해 주세요.\"))\n",
    "page\n",
    "\n",
    "for i in range(1, page + 1):\n",
    "    respone= requests.get(f\"https://kin.naver.com/search/list.naver?query=%EC%82%BC%EC%84%B1%EC%A0%84%EC%9E%90&page={i}\")\n",
    "    html = respone.text\n",
    "    soup = BeautifulSoup(html, 'html.parser')\n",
    "    result = []\n",
    "    articles = soup.select(\"li > dl\")\n",
    "    for article in articles:\n",
    "        title = article.select_one(\"._nclicks\\\\:kin\\\\.txt._searchListTitleAnchor\").text\n",
    "        link = article.select_one(\"._nclicks\\\\:kin\\\\.txt._searchListTitleAnchor\").attrs['href']\n",
    "        date = article.select_one(\".txt_inline\").text\n",
    "        category = article.select_one(\".txt_block > a:nth-of-type(2)\").text\n",
    "        answer = article.select_one(\".hit\").text.split(\" \")[1]\n",
    "        result.append([title, link, date, category, answer])\n",
    "    result\n",
    "result"
   ]
  },
  {
   "cell_type": "markdown",
   "metadata": {},
   "source": [
    "데이터프레임 만든 후 엑셀 저장"
   ]
  },
  {
   "cell_type": "code",
   "execution_count": null,
   "metadata": {},
   "outputs": [],
   "source": [
    "import pandas as pd\n",
    "df = pd.DataFrame(result, columns=['제목', '링크', '날짜', '카테고리', '답변수'])\n",
    "df"
   ]
  },
  {
   "cell_type": "code",
   "execution_count": 14,
   "metadata": {},
   "outputs": [],
   "source": [
    "df.to_excel(\"네이버 지식인 크롤링.xlsx\")"
   ]
  }
 ],
 "metadata": {
  "kernelspec": {
   "display_name": "Python 3",
   "language": "python",
   "name": "python3"
  },
  "language_info": {
   "codemirror_mode": {
    "name": "ipython",
    "version": 3
   },
   "file_extension": ".py",
   "mimetype": "text/x-python",
   "name": "python",
   "nbconvert_exporter": "python",
   "pygments_lexer": "ipython3",
   "version": "3.12.5"
  }
 },
 "nbformat": 4,
 "nbformat_minor": 2
}
