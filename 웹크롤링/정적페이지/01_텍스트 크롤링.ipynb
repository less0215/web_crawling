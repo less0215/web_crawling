{
 "cells": [
  {
   "cell_type": "code",
   "execution_count": 2,
   "metadata": {},
   "outputs": [],
   "source": [
    "import requests\n",
    "from bs4 import BeautifulSoup\n",
    "\n",
    "respone= requests.get(\"https://startcoding.pythonanywhere.com/basic\")\n",
    "html = respone.text\n",
    "soup = BeautifulSoup(html, 'html.parser')  "
   ]
  },
  {
   "cell_type": "markdown",
   "metadata": {},
   "source": [
    "### 태그 안에 있는 텍스트 추출하기"
   ]
  },
  {
   "cell_type": "code",
   "execution_count": 4,
   "metadata": {},
   "outputs": [
    {
     "data": {
      "text/plain": [
       "<p class=\"product-category\">노트북</p>"
      ]
     },
     "execution_count": 4,
     "metadata": {},
     "output_type": "execute_result"
    }
   ],
   "source": [
    "# <p> 안에 있는 '노트북' 1개 찾기\n",
    "soup.find('p', string='노트북')"
   ]
  },
  {
   "cell_type": "code",
   "execution_count": null,
   "metadata": {},
   "outputs": [],
   "source": [
    "# <p> 안에 있는 '노트북' 전부 찾기\n",
    "soup.find_all('p', string='노트북')"
   ]
  },
  {
   "cell_type": "markdown",
   "metadata": {},
   "source": [
    "### 정규표현식 이용해서 텍스트 추출하기"
   ]
  },
  {
   "cell_type": "code",
   "execution_count": null,
   "metadata": {},
   "outputs": [],
   "source": [
    "# a태그에 '그레이'가 들어간 것 한 개 찾기 \n",
    "import re\n",
    "soup.find('a', string=re.compile('그레이'))"
   ]
  },
  {
   "cell_type": "code",
   "execution_count": null,
   "metadata": {},
   "outputs": [],
   "source": [
    "# a태그에 '그레이'가 들어간 것 여러 개 찾기\n",
    "soup.find_all('a', string=re.compile('그레이'))"
   ]
  },
  {
   "cell_type": "code",
   "execution_count": null,
   "metadata": {},
   "outputs": [],
   "source": [
    "# a태그에 '삼성전자'로 시작하는 것 여러 개 찾기\n",
    "soup.find_all('a', string=re.compile('^삼성전자'))"
   ]
  },
  {
   "cell_type": "code",
   "execution_count": null,
   "metadata": {},
   "outputs": [],
   "source": [
    "# a태그에 'KR'로 끝나는 것 여러 개 찾기\n",
    "soup.find_all('a', string=re.compile('KR$'))"
   ]
  },
  {
   "cell_type": "code",
   "execution_count": null,
   "metadata": {},
   "outputs": [],
   "source": [
    "# 추출해야 하는 요소는 10개인데 8개 밖에 추출 되지 않음\n",
    "# 이유는 태그 안에 또 다른 요소가 있기 때문에\n",
    "soup.find_all('h4', string=re.compile('원'))"
   ]
  },
  {
   "cell_type": "code",
   "execution_count": 20,
   "metadata": {},
   "outputs": [
    {
     "data": {
      "text/plain": [
       "['1,419,000원\\n\\t\\t\\t\\t\\t\\t\\t\\t\\t\\t\\n\\t\\t\\t\\t\\t\\t\\t\\t\\t',\n",
       " '549,000원\\n\\t\\t\\t\\t\\t\\t\\t\\t\\t\\t\\n\\t\\t\\t\\t\\t\\t\\t\\t\\t',\n",
       " '529,000원\\n\\t\\t\\t\\t\\t\\t\\t\\t\\t\\t\\n\\t\\t\\t\\t\\t\\t\\t\\t\\t',\n",
       " '624,000원\\n\\t\\t\\t\\t\\t\\t\\t\\t\\t\\t\\n\\t\\t\\t\\t\\t\\t\\t\\t\\t\\t',\n",
       " '1,135,000원\\n\\t\\t\\t\\t\\t\\t\\t\\t\\t\\t\\n\\t\\t\\t\\t\\t\\t\\t\\t\\t',\n",
       " '398,000원\\n\\t\\t\\t\\t\\t\\t\\t\\t\\t\\t\\n\\t\\t\\t\\t\\t\\t\\t\\t\\t',\n",
       " '899,000원\\n\\t\\t\\t\\t\\t\\t\\t\\t\\t\\t\\n\\t\\t\\t\\t\\t\\t\\t\\t\\t\\t',\n",
       " '929,000원\\n\\t\\t\\t\\t\\t\\t\\t\\t\\t\\t\\n\\t\\t\\t\\t\\t\\t\\t\\t\\t',\n",
       " '1,008,000원\\n\\t\\t\\t\\t\\t\\t\\t\\t\\t\\t\\n\\t\\t\\t\\t\\t\\t\\t\\t\\t',\n",
       " '1,149,000원\\n\\t\\t\\t\\t\\t\\t\\t\\t\\t\\t\\n\\t\\t\\t\\t\\t\\t\\t\\t\\t']"
      ]
     },
     "execution_count": 20,
     "metadata": {},
     "output_type": "execute_result"
    }
   ],
   "source": [
    "# select()를 이용해서 모든 속성 추출\n",
    "# .content를 이용해서 추출하고자 하는 인덱스 선택\n",
    "result = []\n",
    "tags = soup.select('.product-price')\n",
    "for tag in tags:\n",
    "    text = tag.contents[0]\n",
    "    result.append(text)\n",
    "result"
   ]
  },
  {
   "cell_type": "code",
   "execution_count": 24,
   "metadata": {},
   "outputs": [
    {
     "name": "stdout",
     "output_type": "stream",
     "text": [
      "['1,419,000원', '549,000원', '529,000원', '624,000원', '1,135,000원', '398,000원', '899,000원', '929,000원', '1,008,000원', '1,149,000원']\n",
      "총 결과 개수 : 10개\n"
     ]
    }
   ],
   "source": [
    "# .get_text()를 이용해서 텍스트만 추출\n",
    "# f스트링을 사용해서 총 결과 개수를 출력해 결과 검증\n",
    "result = []\n",
    "tags = soup.select('.product-price')\n",
    "for tag in tags:\n",
    "    text = tag.contents[0]\n",
    "    price_text = text.get_text(strip=True)\n",
    "    result.append(price_text)\n",
    "print(result)\n",
    "\n",
    "print(f'총 결과 개수 : {len(result)}개')"
   ]
  }
 ],
 "metadata": {
  "kernelspec": {
   "display_name": "Python 3",
   "language": "python",
   "name": "python3"
  },
  "language_info": {
   "codemirror_mode": {
    "name": "ipython",
    "version": 3
   },
   "file_extension": ".py",
   "mimetype": "text/x-python",
   "name": "python",
   "nbconvert_exporter": "python",
   "pygments_lexer": "ipython3",
   "version": "3.12.5"
  }
 },
 "nbformat": 4,
 "nbformat_minor": 2
}
